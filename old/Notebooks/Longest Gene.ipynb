{
 "cells": [
  {
   "cell_type": "markdown",
   "metadata": {},
   "source": [
    "# Find the Longest Gene"
   ]
  },
  {
   "cell_type": "markdown",
   "metadata": {},
   "source": [
    "We'll look at a region of genomic DNA and find the longest potential gene just by finding start and stop codons. The largest gap between a start and the next stop codon that falls in the proper reading frame will be the largest potential gene."
   ]
  },
  {
   "cell_type": "code",
   "execution_count": 2,
   "metadata": {
    "collapsed": true
   },
   "outputs": [],
   "source": [
    "import numpy as np"
   ]
  },
  {
   "cell_type": "markdown",
   "metadata": {},
   "source": [
    "The first thing we have to do is generate the region. I'll start with a short one for now."
   ]
  },
  {
   "cell_type": "code",
   "execution_count": 3,
   "metadata": {
    "collapsed": false
   },
   "outputs": [
    {
     "name": "stdout",
     "output_type": "stream",
     "text": [
      "CACUACUUGGAUUCCUUGAGUCCAUACAAUCUACCUCACUAGUAGCUAGACCUACGUACUAUGAUUGCAUGAUGGCACGGUUAGGCAAUAGGUAAGGUUAACACAUGCUCAUUGAAUAGUGAUAACGAAAUUACCCAGUGUUACACUCAUUAGCCCGUGUCCUUGUUGGCUUAUCUAAUGGUGGUCUACCAACAUAGCCAGACGUUCUUAAAAGCACAGUAUUUCCGGAGGAGCUAGAUCCCGGCGGGGGACCCGAGUUAGGGGAAACGCGAGUCACACAUCCGCUGACCUUAAACAAUCACACUGCAUGGGGUUGCCAGUUGAAUUGUGGAAAUGUCACUGCUAGAUACGGUGAAGGUUUAAACUAACGGUAACGGAAAGUAGCUUCCGUGCCCUGGAGUAGGUUGAACCAAUCUGUGCGGCAGUGCAGAAAGCUUCGUCAGAUCACUGGCCCGAAAAAUGCGUUCGUAGCGCCCGGGCUAGAUAGAUGACCCUGAUUCACAUCGAAAACAAUGCUAAUUCGGCAUGUUAUUGCGUCGGAGCGGGACUCGUAGUGGGAUAAUGUUGGUGACACCAACAUCUCAAACUACAUUAGAGCCCUCGUUGUACAAAUAACAAUUUACAAGCCCGCCUGAGUAAUAAUCAGAGUUAGCGAACGAUCACUGCAAUAAGUCGCCGCACGUUCAUCAGUUCUGAAAUGAUUCCUGCUGAGGAGUCCAUGAUCGAAUUUUGUAGUAUUCCGGGAGUAGUAUUCGACAGUGCUCGCAUACCAUCAAUUGAGGUCAAGCCUGCACCCCGUACCCAAAAGCCGACCGAGACCCCCUAAACCCAUGGCUUAAGAUGUAGUCCUUAACUAACCCGCAAUUCUACACCUCCGUAAAAAACCGAUCCAGGGUGACCGAAAUACACUGCUUAUACAAUUUCCGAGUACCUCGAAAUCUCAGAAAAAUAUUUUAAUACCAGGUUGGAUUGCGCUUUAUCCUUUACAUCCUUUAACUCGUCUUAGGGUACGUGGACUAGAUAAGGAAUGUACCGCCAGUGAUCUAAAUACAAAGUAAUACUUUACCUCUGAGCAGAAUAUCUCAUUGUGAAAAGACAUAAAGAGAACAACUAAAUGCAGUGGAUCGAAAACCGCCAGCUGUUAGGAUGCUCUCUGUGCAAUAUUAGUAAACGAACAUGGCAUCGGCAGGAUUGUCAUCGACUAGGAUAGCUGAAGGAUUGCCGAGGAAAUCAACACCCUGAGGACUCACUACGGGUUACCGUUAAUACCUGUGUUCGAAAUUGAAAUAAUAACGCCACAUUGAGAGUGUGGUAUACUGCCAGCGCGUUCCAAAGGUAGCUUAGGCAUAUUCAUCAACUGUACCAAAAAUAGUUGGGACGGAGCCAAUCAGUAGUUGCGAAAAUAAUGCCUUAAGCAAGCCGACACCGCAAGUAAUUGAGGCCACACAAGCUGGUAUAGGUUGCAACAUGCCUGCAGGAUGGCCCGAACUAUUAGUUACG\n"
     ]
    }
   ],
   "source": [
    "def gen_seq(size):\n",
    "    seq = np.random.choice(['A', 'G', 'U', 'C'], size, p=[.27, .26, .24, .23])\n",
    "    seq = ''.join(seq)\n",
    "    return seq\n",
    "seq = gen_seq(1500)\n",
    "print seq"
   ]
  },
  {
   "cell_type": "markdown",
   "metadata": {},
   "source": [
    "Since at least one of the stop codons is after the first start, we'll have at least one gene."
   ]
  },
  {
   "cell_type": "markdown",
   "metadata": {},
   "source": [
    "Here's the plan for finding the longest gene:\n",
    "\n",
    "0. Initialize 'largest gene' to 0\n",
    "1. Start at the beginning of the sequence and iterate through the bases\n",
    "2. Look for a start codon\n",
    "3. If we already have an open reading frame, keep moving\n",
    "4. Otherwise, store the start codon position and start looking for a stop codon\n",
    "5. If you find a stop codon but we don't have an 'active' start codon, keep moving\n",
    "6. If you find a stop codon while we have an 'active' start codon, check if it's in the reading frame\n",
    "7. If it isn't, keep moving\n",
    "8. If it is, we have a gene\n",
    "9. Check if the gene is larger than the current largest gene. If it is, replace it."
   ]
  },
  {
   "cell_type": "code",
   "execution_count": 4,
   "metadata": {
    "collapsed": true
   },
   "outputs": [],
   "source": [
    "def find_largest_gene(seq):\n",
    "    #Initialize\n",
    "    largest_gene = ''\n",
    "    largest_gene_index = 0\n",
    "    start_index = 0\n",
    "    end_codons = ['UAG', 'UAA', 'UGA']\n",
    "    \n",
    "    for i in xrange(len(seq)):\n",
    "        codon = seq[i:i+3]\n",
    "        \n",
    "        #Start codon found and no gene started\n",
    "        if codon == 'AUG' and start_index == 0:\n",
    "            start_index = i\n",
    "        \n",
    "        #gene started, end codon found, and in reading frame\n",
    "        if start_index != 0 and codon in end_codons and (i-start_index)%3 == 0:\n",
    "            \n",
    "            #Store gene if it's the largest found so far\n",
    "            gene = seq[start_index:i+3]\n",
    "            if len(gene) > len(largest_gene):\n",
    "                largest_gene = gene\n",
    "                largest_gene_index = start_index\n",
    "                \n",
    "    return largest_gene_index, largest_gene"
   ]
  },
  {
   "cell_type": "code",
   "execution_count": 5,
   "metadata": {
    "collapsed": false
   },
   "outputs": [
    {
     "name": "stdout",
     "output_type": "stream",
     "text": [
      "60\n",
      "AUGAUUGCAUGAUGGCACGGUUAGGCAAUAGGUAAGGUUAACACAUGCUCAUUGAAUAGUGAUAACGAAAUUACCCAGUGUUACACUCAUUAGCCCGUGUCCUUGUUGGCUUAUCUAAUGGUGGUCUACCAACAUAGCCAGACGUUCUUAAAAGCACAGUAUUUCCGGAGGAGCUAGAUCCCGGCGGGGGACCCGAGUUAGGGGAAACGCGAGUCACACAUCCGCUGACCUUAAACAAUCACACUGCAUGGGGUUGCCAGUUGAAUUGUGGAAAUGUCACUGCUAGAUACGGUGAAGGUUUAAACUAACGGUAACGGAAAGUAGCUUCCGUGCCCUGGAGUAGGUUGAACCAAUCUGUGCGGCAGUGCAGAAAGCUUCGUCAGAUCACUGGCCCGAAAAAUGCGUUCGUAGCGCCCGGGCUAGAUAGAUGACCCUGAUUCACAUCGAAAACAAUGCUAAUUCGGCAUGUUAUUGCGUCGGAGCGGGACUCGUAGUGGGAUAAUGUUGGUGACACCAACAUCUCAAACUACAUUAGAGCCCUCGUUGUACAAAUAACAAUUUACAAGCCCGCCUGAGUAAUAAUCAGAGUUAGCGAACGAUCACUGCAAUAAGUCGCCGCACGUUCAUCAGUUCUGAAAUGAUUCCUGCUGAGGAGUCCAUGAUCGAAUUUUGUAGUAUUCCGGGAGUAGUAUUCGACAGUGCUCGCAUACCAUCAAUUGAGGUCAAGCCUGCACCCCGUACCCAAAAGCCGACCGAGACCCCCUAAACCCAUGGCUUAAGAUGUAGUCCUUAACUAACCCGCAAUUCUACACCUCCGUAAAAAACCGAUCCAGGGUGACCGAAAUACACUGCUUAUACAAUUUCCGAGUACCUCGAAAUCUCAGAAAAAUAUUUUAAUACCAGGUUGGAUUGCGCUUUAUCCUUUACAUCCUUUAACUCGUCUUAGGGUACGUGGACUAGAUAAGGAAUGUACCGCCAGUGAUCUAAAUACAAAGUAAUACUUUACCUCUGAGCAGAAUAUCUCAUUGUGAAAAGACAUAAAGAGAACAACUAAAUGCAGUGGAUCGAAAACCGCCAGCUGUUAGGAUGCUCUCUGUGCAAUAUUAGUAAACGAACAUGGCAUCGGCAGGAUUGUCAUCGACUAGGAUAGCUGAAGGAUUGCCGAGGAAAUCAACACCCUGAGGACUCACUACGGGUUACCGUUAAUACCUGUGUUCGAAAUUGAAAUAAUAACGCCACAUUGAGAGUGUGGUAUACUGCCAGCGCGUUCCAAAGGUAGCUUAG\n"
     ]
    }
   ],
   "source": [
    "idx, gene = find_largest_gene(seq)\n",
    "print idx\n",
    "print gene"
   ]
  },
  {
   "cell_type": "code",
   "execution_count": 6,
   "metadata": {
    "collapsed": false
   },
   "outputs": [
    {
     "data": {
      "text/plain": [
       "0"
      ]
     },
     "execution_count": 6,
     "metadata": {},
     "output_type": "execute_result"
    }
   ],
   "source": [
    "(len(gene))%3"
   ]
  },
  {
   "cell_type": "markdown",
   "metadata": {},
   "source": [
    "We found a gene, but with this this small example we haven't tested to see if we have the largest. Let's modify the function to print all the genes in a larger sequence."
   ]
  },
  {
   "cell_type": "code",
   "execution_count": 16,
   "metadata": {
    "collapsed": true
   },
   "outputs": [],
   "source": [
    "def find_largest_gene2(seq):\n",
    "    #Initialize\n",
    "    largest_gene = ''\n",
    "    largest_gene_index = 0\n",
    "    start_index = 0\n",
    "    end_codons = ['UAG', 'UAA', 'UGA']\n",
    "    c = 0\n",
    "    for i in xrange(len(seq)):\n",
    "        codon = seq[i:i+3]\n",
    "        \n",
    "        #Start codon found and no gene started\n",
    "        if codon == 'AUG' and start_index == 0:\n",
    "            start_index = i\n",
    "        \n",
    "        #gene started, end codon found, and in reading frame\n",
    "        if start_index != 0 and codon in end_codons and (i-start_index)%3 == 0:\n",
    "            \n",
    "            #Store gene if it's the largest found so far\n",
    "            gene = seq[start_index:i+3]\n",
    "            print '{}. Start:{}, End{}, Len:{}'.format(c,start_index, i, len(gene))\n",
    "            print gene\n",
    "            print ''\n",
    "            if len(gene) > len(largest_gene):\n",
    "                largest_gene = gene\n",
    "                largest_gene_index = start_index\n",
    "            start_index = 0\n",
    "            c += 1\n",
    "                \n",
    "    return largest_gene_index, largest_gene"
   ]
  },
  {
   "cell_type": "code",
   "execution_count": 19,
   "metadata": {
    "collapsed": false,
    "scrolled": false
   },
   "outputs": [
    {
     "name": "stdout",
     "output_type": "stream",
     "text": [
      "0. Start:28, End37, Len:12\n",
      "AUGGGCGCCUAA\n",
      "\n",
      "1. Start:100, End136, Len:39\n",
      "AUGAGCGCAGGCAAUUUAGAGCAGGCCCCGGCUGCAUGA\n",
      "\n",
      "2. Start:161, End185, Len:27\n",
      "AUGGGGAACGGCGGAAGAGGGCAUUAA\n",
      "\n",
      "3. Start:191, End281, Len:93\n",
      "AUGCGGCGCAACCGGCCGCAUCAGCGUAUGGUAGGGUAUGUGCUCUUUGGCGCACAGGGUAGUAAUUCGUCAGUGGUGAUCGUGGAGAGAUAA\n",
      "\n",
      "4. Start:431, End461, Len:33\n",
      "AUGCACUGGCUGAGGCAACGUGAUGAUACAUGA\n",
      "\n",
      "5. Start:624, End684, Len:63\n",
      "AUGCACCUACUCCCGGAGAUUGAACUCCGGUAUGGAACCCGUAUCUGUAAAGCCCAUUUAUGA\n",
      "\n",
      "6. Start:723, End843, Len:123\n",
      "AUGUCUUAUUGCGUUGAUUGUAACGUUAUCUUCAGCCCGGUCUCACGGGAUCACGGACAGACGCGCAAAUGUGGUGAGAACGAGUUUACUCGAAGUAGCAUGAUGCUAUACGACUGCGCAUAA\n",
      "\n",
      "7. Start:845, End857, Len:15\n",
      "AUGCAUACCUGGUAA\n",
      "\n",
      "8. Start:878, End926, Len:51\n",
      "AUGAAAGCGUGUUCUUACCAACCCCCGUGCGGUAAUCUGUCAACGCCAUGA\n",
      "\n",
      "9. Start:996, End1053, Len:60\n",
      "AUGGGCAUGAGACCUCACAUGGUUAAGACCUACACAUCGCAACCCUGGGUCGGCGGGUGA\n",
      "\n",
      "10. Start:1160, End1196, Len:39\n",
      "AUGUUGUGUGUUUCCUUUCACACUGAAGUUUACGAGUAA\n",
      "\n",
      "11. Start:1207, End1324, Len:120\n",
      "AUGUGGUGCGGGAUGACUGUGUGGUUACAGCUAUAUUUAGGGCGCGCUACAUCAAUGUCUUCAGGAAUUGCCACAAUACGUAUACCCGCACAUUUAGCUGAGACGGGACAUGAAGGAUGA\n",
      "\n",
      "12. Start:1331, End1454, Len:126\n",
      "AUGAGGUUCACAUUAUUACAACCGCCACUGGAAUCCGUGGCACCAUUGGCUGGAUUUGUAAUUAUUCAUACAGGGCUUGUCGGUUUAAAUAAACCUCUAUGGUCGGCACUUGAGGAUGUGCGCUAA\n",
      "\n",
      "13. Start:1494, End1566, Len:75\n",
      "AUGAUACAACCCAUGCCCAUAUUGCAAGAAGCCCGUGUAAUCGGUGUAGUCGGCCUUGGUUUCAACCGGCGGUAA\n",
      "\n",
      "14. Start:1585, End1612, Len:30\n",
      "AUGAGAUGUCCCGUAGACUACGGCCCGUGA\n",
      "\n",
      "15. Start:1648, End1669, Len:24\n",
      "AUGUCAUGGAAGCGGCAACUGUAG\n",
      "\n",
      "16. Start:1674, End1716, Len:45\n",
      "AUGGUGCUAGUUAGUUGGCUCCCUUAUAAAGGCUUUUGCGUAUGA\n",
      "\n",
      "17. Start:1891, End1912, Len:24\n",
      "AUGAAUGCACAUGCUGACUGCUAG\n",
      "\n",
      "18. Start:1916, End1955, Len:42\n",
      "AUGGGACUUUUCAGAACCUGGUCUCAAGAAUGCGGGGCAUAA\n",
      "\n",
      "19. Start:2114, End2171, Len:60\n",
      "AUGGGCGGUAAGAGCGGAAAGAUCGCCACCAGUGGACCGCCAUACAUACGCGGUCCCUAG\n",
      "\n",
      "20. Start:2197, End2302, Len:108\n",
      "AUGAUUAUUGUUUUUCGGGCAAUGUUGCGCUACUAUGGAACGAAACAAGAAGCGCAUUACAGGGCGGACAGAUGUCGUUGUAAUGUCCAUGUCUGUAUAUUCCAUUAA\n",
      "\n",
      "21. Start:2328, End2430, Len:105\n",
      "AUGGGGACACCCGUACAGCUAAAUGACGGUUUCUCUCACUCCACUAGGACAAUACUUAUAAAGAGCACGUAUGCUAGAGCGGCCAUGCUAGCUCUGGUGAGCUAG\n",
      "\n",
      "22. Start:2433, End2439, Len:9\n",
      "AUGUUAUAA\n",
      "\n",
      "23. Start:2452, End2494, Len:45\n",
      "AUGUGUAAAUUGCAUCGUUCCAUUCGACUAGAAACCCAACUAUGA\n",
      "\n",
      "24. Start:2536, End2554, Len:21\n",
      "AUGUUCAUUGAUUCUUAUUAA\n",
      "\n",
      "25. Start:2624, End2642, Len:21\n",
      "AUGCAAAGACGCGGGUGUUGA\n",
      "\n",
      "26. Start:2646, End2721, Len:78\n",
      "AUGAUACAUCUCGCGACGACCGACUCUGUUUGGGAAAGUGUGUUAUCCGCCUUGGUUCGUAUAGUAAAGUCGGUUUGA\n",
      "\n",
      "27. Start:2770, End2815, Len:48\n",
      "AUGCUUUACUUGCGCGACGUGAUGAAGUUACAAACAAGACUCUCCUGA\n",
      "\n",
      "28. Start:2830, End3058, Len:231\n",
      "AUGUUCCUUGACGCACCUAUCGCGCUUACGAUAGGAACCGUCGCGCCGCCAAGUUAUACCAUGGAGUUGAUUUCGUACAGUUCGACGUUCAACUAUCGCAGUGUAUCACUUCCUUCGCCUACACCGCCGUGUAAGAAAUACCGUCCACGUGAAAAUCACAGUCGAUCGUCGUUGGAUCACGAGCAUUUAGGCAAGUUGAAAGCUUUCACCCCAUGCUGUUCCGAGUCGUAG\n",
      "\n",
      "29. Start:3077, End3101, Len:27\n",
      "AUGACUUUUUCGAGAUCCCCAGCUUAG\n",
      "\n",
      "30. Start:3182, End3251, Len:72\n",
      "AUGAAUUCACAGGCACGUACCUACAGAUGUUGGGAAUCUCAACAUUUUGGGCCUAAUCGAAGGCCCGCAUAG\n",
      "\n",
      "31. Start:3278, End3464, Len:189\n",
      "AUGGAUGAAACCGCACUUGCCAACAUAGUUAGGGGUCUCUGUACCACUAGCUUUGUAGGCAGGGACAAAUAUUCGAAAGCUACGCGCUAUGUUGCUAAACUCUUUCUGACCCUUGGCAUUGUAAUUCAAGCUACAAUCACUAGUCGCUCUGACGGAGCAGGUAUAUUCCUGACUACGCUUAAUUCGUGA\n",
      "\n",
      "32. Start:3622, End3631, Len:12\n",
      "AUGAGUCGAUAA\n",
      "\n",
      "33. Start:3650, End3674, Len:27\n",
      "AUGUUCGUCCUAACAGGAGUCAAGUAG\n",
      "\n",
      "34. Start:3987, End4050, Len:66\n",
      "AUGUUCACUUUAUCGAACCGCGCCCACUCAUUGGUUGGAUCGGCACCGCCUUACCGUUAUCAGUAG\n",
      "\n",
      "35. Start:4055, End4145, Len:93\n",
      "AUGCGGAUGAGCACUUUAAACGGGACGCCCGGAUCCAUACCGGGAAAUUUUAGGGACAUAAUGGCAGUGGGUCCGCACCUGCACAAUGAGUGA\n",
      "\n",
      "36. Start:4170, End4287, Len:120\n",
      "AUGUUCGAACUAAGCGAGGGGCUUUUACUAGACGUACGGGACCUACGCAUUCAAAAGUUCAUGUGUUUUCACCUCGGACGCUGUCUAGGGGAACGCGUCUCAAGGGCCCCCAUGGAGUAA\n",
      "\n",
      "37. Start:4337, End4370, Len:36\n",
      "AUGCAAACGUUCGUGACUUUUAGUCAACAAACAUAG\n",
      "\n",
      "38. Start:4455, End4458, Len:6\n",
      "AUGUGA\n",
      "\n",
      "39. Start:4563, End4620, Len:60\n",
      "AUGCCGUACUUAAGUAUAGCCCUAAUAUUUUACUUCGCGGUACCGCCGGCUCGUGGGUAG\n",
      "\n",
      "40. Start:4634, End4655, Len:24\n",
      "AUGCCUUUACGUAAGCGCAGAUAA\n",
      "\n",
      "41. Start:4722, End4761, Len:42\n",
      "AUGACCAGGAGAGUCAAAGGCUUUGAUCUUAAAUUAUCUUGA\n",
      "\n",
      "42. Start:4813, End4888, Len:78\n",
      "AUGGGCGACGGUAUGCAAAAUGCGGUAGGAGGGGAGAAUAGGCCGGGGGAUCGAGGAGAGUCAUUAUAUAGCUCGUAG\n",
      "\n",
      "43. Start:5058, End5094, Len:39\n",
      "AUGCUUAGGAAUCAGAAAACGUCUUCCGCACCCAGUUAA\n",
      "\n",
      "44. Start:5385, End5391, Len:9\n",
      "AUGGAGUAG\n",
      "\n",
      "45. Start:5423, End5489, Len:69\n",
      "AUGGGAACAGUCGGUAUACACGGUAAGCCCAAGUUCCCCGGUACUCCCUUUUGGCAAAUGCCAGGAUGA\n",
      "\n",
      "46. Start:5648, End5657, Len:12\n",
      "AUGGCCUCUUGA\n",
      "\n",
      "47. Start:5718, End5778, Len:63\n",
      "AUGGCGAUUGGUCAGACAUUGCGCCUAAGCAACAAUAAGCAUGAUCUAGACGACCCUAUUUAG\n",
      "\n",
      "48. Start:5836, End5908, Len:75\n",
      "AUGUUCGCGGUUCUUUGCCCGAUAACGACCUCAACGCGUAGCGUUCGUUUUGGAAUGUUAAAGGCACAGAAGUAG\n",
      "\n",
      "49. Start:6009, End6138, Len:132\n",
      "AUGCAUGUGGAGUGUCCCUAUUGCCUCAGGGUACAGAGGCGUGUCGGACGACAUCAUAUUGCUCGCUCAUGCCAAGAGAAAGCGACAUGUCCUGAACUCGCGGUGAGAGCAUGGUUUAGUAGUGCCGUGUAG\n",
      "\n",
      "50. Start:6272, End6281, Len:12\n",
      "AUGUGGACAUAA\n",
      "\n",
      "51. Start:6321, End6354, Len:36\n",
      "AUGCAUGAUCCGUGGAUCAGCGAAAUUGAAUUCUAA\n",
      "\n",
      "52. Start:6478, End6526, Len:51\n",
      "AUGAUCGUUAAGCUACAACCGGGGAUUUUUGACAGUGUCAUCUGGUUGUAA\n",
      "\n",
      "53. Start:6657, End6849, Len:195\n",
      "AUGACGGAGCCAAUGUACGGGGAUAUAAGAGCCAGCAGGAGCAUAAGACAAGUACCUGUAGACUCGACUGCCAGGGAACCUUGUAUGGAUGUGAUAUCCACGGAAAUGGUAAGUGACCAGUACCUCGGGGAUGGCGCUUCAUUCGUCCAUGGAAGGACGAGUGACGCACAAGUGUUUAAAGCCGCAUGGGCAUGA\n",
      "\n",
      "54. Start:6851, End6875, Len:27\n",
      "AUGGUCAAAGGGUGCUCUGGCGUGUAG\n",
      "\n",
      "55. Start:7146, End7212, Len:69\n",
      "AUGAUAGGUGCGCUGCACUAUGUGCCCAGAGGGAGCAUUUCAAGGCCUUACAAUGGGGUCUGGCCCUGA\n",
      "\n",
      "56. Start:7252, End7321, Len:72\n",
      "AUGAGGUACAAGAUGAUAAAAGGCUUUGAAGUUCCUUGCGCCCAGAGAAUGGAGUACGGCCGAUGCAACUGA\n",
      "\n",
      "57. Start:7397, End7442, Len:48\n",
      "AUGGACCACAUGACCCGCCAUCUGACACUUAACGCCCCAAACACCUGA\n",
      "\n",
      "58. Start:7499, End7568, Len:72\n",
      "AUGCGCUUAAGGGGGGAUAUUAUCCAUGUGUUAAAAAUCUUUCAGGACUUGGUCUUAAGCGUUACUUCCUAG\n",
      "\n",
      "59. Start:7594, End7666, Len:75\n",
      "AUGCUGAUAGUGGAUCAACAGUGUGCACCUAAAGCUGUUGGACCGGGCAUGUUACUUAGGUUCUUAUUUCGCUAG\n",
      "\n",
      "60. Start:7727, End7778, Len:54\n",
      "AUGAUAAGGCUUGAGACCACACUUCCGUCUCCGGGGAUAAUAGUCCGAUUGUGA\n",
      "\n",
      "61. Start:7783, End7810, Len:30\n",
      "AUGUUGCUAGAGUCAACACACACUCACUAA\n",
      "\n",
      "62. Start:7857, End7905, Len:51\n",
      "AUGAUUCACAUCAAGUUGAUAAGCCGAGGUAGCAUCUUCGCGCCCCGCUAA\n",
      "\n",
      "63. Start:7908, End7971, Len:66\n",
      "AUGGAGUUAGGUGGGUCCAGUCCGUGCGAGGGUGUGCAUGGCGUUGGUCAAUAUUCCUCAAAUUAA\n",
      "\n",
      "64. Start:7973, End8006, Len:36\n",
      "AUGAAACUAGUGGAAUCCUUCAACGAUAUAAACUGA\n",
      "\n",
      "65. Start:8091, End8118, Len:30\n",
      "AUGGGUCAAUAUCGUCUACCAAAUAGCUAG\n",
      "\n",
      "66. Start:8149, End8155, Len:9\n",
      "AUGGUCUGA\n",
      "\n",
      "67. Start:8234, End8249, Len:18\n",
      "AUGACGGGGCUGGGAUGA\n",
      "\n",
      "68. Start:8254, End8260, Len:9\n",
      "AUGCUCUAG\n",
      "\n",
      "69. Start:8345, End8357, Len:15\n",
      "AUGUCUGAGUUAUAA\n",
      "\n",
      "70. Start:8371, End8488, Len:120\n",
      "AUGGAUUGUGUACGUUCGCAUCGACUCCCGAGUCGUGGCUUCUCGAAGCAUAGCUCAUUGGCCGUGGCUUCACACGCAGAGGUCGUCAUGCUCAGAUAUGUAUUAGGCAGCGCACUAUAA\n",
      "\n",
      "71. Start:8501, End8519, Len:21\n",
      "AUGAUGCACUACGUGUAUUAG\n",
      "\n",
      "72. Start:8623, End8722, Len:102\n",
      "AUGGAGGCUUUAGCCGCCGAAUUCUCAGCUAAGUGCAUGUGCGACAAAGUGAGCAACUUGUGUUACAGCGCUAGACACAGGAAUCAGUUACUGAGCUCCUGA\n",
      "\n",
      "73. Start:8731, End8800, Len:72\n",
      "AUGCUGGGUGACUUGUGGCUGGUGUCUUUUGGGGUUGACGCGAAAUUGUAUAAUUUUGCUACUAGGUUCUAA\n",
      "\n",
      "74. Start:8827, End8836, Len:12\n",
      "AUGUUAAUAUGA\n",
      "\n",
      "75. Start:8865, End8964, Len:102\n",
      "AUGCCCUUCCAGCCAAGGAUCCUAUCGAAACGACGUUCGAGGCGUCCAAUAAGAACGCAUUCAACCGAUCACGAUGAAUACUGCUCGAUGAUGCACGAUUAA\n",
      "\n",
      "76. Start:9013, End9055, Len:45\n",
      "AUGCGGAGGCUUGGCGGGCAAACGCAAGUAUUUAUGAGGAAUUAG\n",
      "\n",
      "77. Start:9065, End9131, Len:69\n",
      "AUGGUUCUCGUCGCAGCAGAUCAACUAGCCACACUUCUCUCGAUGAAAUGUAGUGCGGUCAUGGCAUAA\n",
      "\n",
      "78. Start:9322, End9358, Len:39\n",
      "AUGAUCCCUAUCCCUGCGCCGAAAGGUGCUGAGAACUAG\n",
      "\n",
      "79. Start:9391, End9400, Len:12\n",
      "AUGCGCGUGUAG\n",
      "\n",
      "80. Start:9422, End9488, Len:69\n",
      "AUGGCUAAACAUCCGCGAUCCGGGGGAGCUAAGGUACCUCGAACGUGCCGGUUGUUAACCAUAGCGUGA\n",
      "\n",
      "81. Start:9544, End9583, Len:42\n",
      "AUGCAAAUCAUACCGCUUCCCCUAAACCGAAAAGCAAACUAG\n",
      "\n",
      "82. Start:9844, End9928, Len:87\n",
      "AUGCGUAAAAGCACGCCUCUAGCCAAUGUUAAAACUUGUCGGAAAGCAGUGCGGCGCUUACGUAAUCUAUGCAUUAUUGCAAAAUAG\n",
      "\n",
      "83. Start:9936, End9969, Len:36\n",
      "AUGGUCGGUACGAACGUCAGUGUGUCUUGGGGCUAG\n",
      "\n",
      "2830\n",
      "AUGUUCCUUGACGCACCUAUCGCGCUUACGAUAGGAACCGUCGCGCCGCCAAGUUAUACCAUGGAGUUGAUUUCGUACAGUUCGACGUUCAACUAUCGCAGUGUAUCACUUCCUUCGCCUACACCGCCGUGUAAGAAAUACCGUCCACGUGAAAAUCACAGUCGAUCGUCGUUGGAUCACGAGCAUUUAGGCAAGUUGAAAGCUUUCACCCCAUGCUGUUCCGAGUCGUAG\n"
     ]
    }
   ],
   "source": [
    "idx, gene = find_largest_gene2(gen_seq(10000))\n",
    "print idx\n",
    "print gene"
   ]
  },
  {
   "cell_type": "markdown",
   "metadata": {},
   "source": [
    "There we go! Largest potential gene found."
   ]
  },
  {
   "cell_type": "code",
   "execution_count": null,
   "metadata": {
    "collapsed": true
   },
   "outputs": [],
   "source": []
  }
 ],
 "metadata": {
  "kernelspec": {
   "display_name": "Python [conda env:j_lab3]",
   "language": "python",
   "name": "conda-env-j_lab3-py"
  },
  "language_info": {
   "codemirror_mode": {
    "name": "ipython",
    "version": 3
   },
   "file_extension": ".py",
   "mimetype": "text/x-python",
   "name": "python",
   "nbconvert_exporter": "python",
   "pygments_lexer": "ipython3",
   "version": "3.5.2"
  }
 },
 "nbformat": 4,
 "nbformat_minor": 0
}
