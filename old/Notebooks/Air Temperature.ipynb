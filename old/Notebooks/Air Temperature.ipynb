{
 "cells": [
  {
   "cell_type": "markdown",
   "metadata": {},
   "source": [
    "# Correlation between air pollution and temperature"
   ]
  },
  {
   "cell_type": "markdown",
   "metadata": {},
   "source": [
    "The first thing I have to do is generate the dataset described below:\n",
    "\n",
    "There are 24 5x5 arrays. 12 are air pollution and 12 are temperature, for each month of the year. The 5x5 setup represents a grid centered around the factory. Measurements have been taken around that central location as required. (They just weren't looked at before since they had been modified to be below threshold levels). We're going to pretend that the pollution is heavy and doesn't travel far. So we're going to make the 3x3 grid in the center the only stuff worth looking at. Finally, since we're looking at temperature over the course of a year, players are going to have to normalize for the average temperature each month.  "
   ]
  },
  {
   "cell_type": "code",
   "execution_count": 174,
   "metadata": {
    "collapsed": true
   },
   "outputs": [],
   "source": [
    "import numpy as np"
   ]
  },
  {
   "cell_type": "code",
   "execution_count": 175,
   "metadata": {
    "collapsed": false
   },
   "outputs": [],
   "source": [
    "pollution = np.random.rand(12,5,5)\n",
    "temperature = np.random.rand(12,5,5)"
   ]
  },
  {
   "cell_type": "markdown",
   "metadata": {},
   "source": [
    "Now we have to transform the middle of the datasets so there's a trend."
   ]
  },
  {
   "cell_type": "code",
   "execution_count": 176,
   "metadata": {
    "collapsed": false
   },
   "outputs": [
    {
     "name": "stdout",
     "output_type": "stream",
     "text": [
      "[[ 0.91608889  0.3845743   0.807517    0.41360055  0.86404671]\n",
      " [ 0.55301463  0.76257572  0.08726591  0.36804189  0.55195536]\n",
      " [ 0.08893268  0.99645329  0.88289318  0.21505927  0.07413818]\n",
      " [ 0.91908637  0.6512863   0.43145571  0.03790161  0.45285745]\n",
      " [ 0.11341382  0.54559943  0.07856832  0.53875787  0.56916654]]\n",
      "\n",
      "[[ 0.76257572  0.08726591  0.36804189]\n",
      " [ 0.99645329  0.88289318  0.21505927]\n",
      " [ 0.6512863   0.43145571  0.03790161]]\n"
     ]
    }
   ],
   "source": [
    "#How to properly do indexing\n",
    "print pollution[0]\n",
    "print ''\n",
    "print pollution[0, 1:4, 1:4]"
   ]
  },
  {
   "cell_type": "code",
   "execution_count": 177,
   "metadata": {
    "collapsed": false
   },
   "outputs": [
    {
     "name": "stdout",
     "output_type": "stream",
     "text": [
      "0\n",
      "[[ 0.76257572  0.08726591  0.36804189]\n",
      " [ 0.99645329  0.88289318  0.21505927]\n",
      " [ 0.6512863   0.43145571  0.03790161]]\n",
      "\n",
      "[[ 0.76257572  0.08726591  0.36804189]\n",
      " [ 0.99645329  0.88289318  0.21505927]\n",
      " [ 0.6512863   0.43145571  0.03790161]]\n",
      "0.492548096465\n",
      "1\n",
      "[[ 0.31262715  0.24031817  0.4662806 ]\n",
      " [ 0.77915322  0.7532051   0.96863939]\n",
      " [ 0.74867392  0.4280218   0.66342265]]\n",
      "\n",
      "[[ 0.6252543   0.48063635  0.9325612 ]\n",
      " [ 1.55830643  1.50641021  1.93727878]\n",
      " [ 1.49734784  0.8560436   1.32684531]]\n",
      "1.19118711379\n",
      "2\n",
      "[[ 0.80646817  0.44991478  0.02828211]\n",
      " [ 0.14163093  0.85189377  0.51662442]\n",
      " [ 0.71688517  0.38525081  0.33182141]]\n",
      "\n",
      "[[ 2.4194045   1.34974434  0.08484632]\n",
      " [ 0.4248928   2.55568132  1.54987326]\n",
      " [ 2.15065551  1.15575244  0.99546423]]\n",
      "1.40959052477\n",
      "3\n",
      "[[ 0.29520998  0.16526038  0.52769653]\n",
      " [ 0.50847252  0.59445457  0.81458907]\n",
      " [ 0.33253627  0.66158302  0.12191847]]\n",
      "\n",
      "[[ 1.18083994  0.6610415   2.11078611]\n",
      " [ 2.03389007  2.37781828  3.2583563 ]\n",
      " [ 1.33014507  2.6463321   0.48767389]]\n",
      "1.78743147199\n",
      "4\n",
      "[[ 0.14446905  0.81641768  0.25777656]\n",
      " [ 0.70453943  0.74057667  0.26826776]\n",
      " [ 0.11878714  0.53510722  0.97175308]]\n",
      "\n",
      "[[ 0.72234527  4.08208842  1.28888281]\n",
      " [ 3.52269716  3.70288337  1.34133879]\n",
      " [ 0.59393572  2.67553608  4.8587654 ]]\n",
      "2.53205255601\n",
      "5\n",
      "[[ 0.30767952  0.90450216  0.84101794]\n",
      " [ 0.46097272  0.41207331  0.46155722]\n",
      " [ 0.28652675  0.300544    0.81509856]]\n",
      "\n",
      "[[ 1.84607709  5.42701294  5.04610762]\n",
      " [ 2.76583632  2.47243985  2.76934329]\n",
      " [ 1.71916052  1.80326402  4.89059134]]\n",
      "3.19331477822\n",
      "6\n",
      "[[ 0.26983523  0.4764196   0.290252  ]\n",
      " [ 0.95897225  0.30299599  0.61028539]\n",
      " [ 0.15195063  0.74473213  0.13749024]]\n",
      "\n",
      "[[ 1.88884659  3.33493722  2.03176401]\n",
      " [ 6.71280578  2.12097195  4.27199776]\n",
      " [ 1.06365438  5.21312494  0.96243165]]\n",
      "3.06672603114\n",
      "7\n",
      "[[ 0.54055821  0.71114786  0.48366824]\n",
      " [ 0.18127842  0.2858718   0.19134974]\n",
      " [ 0.26587899  0.07552594  0.08224646]]\n",
      "\n",
      "[[ 4.32446571  5.68918289  3.86934594]\n",
      " [ 1.45022739  2.28697444  1.53079795]\n",
      " [ 2.12703195  0.60420753  0.65797165]]\n",
      "2.5044672721\n",
      "8\n",
      "[[ 0.82337801  0.90716705  0.14728604]\n",
      " [ 0.47516582  0.7572439   0.2336112 ]\n",
      " [ 0.13213813  0.62192492  0.81976512]]\n",
      "\n",
      "[[ 7.41040206  8.16450343  1.32557433]\n",
      " [ 4.27649241  6.8151951   2.10250084]\n",
      " [ 1.18924321  5.59732425  7.37788606]]\n",
      "4.91768018872\n",
      "9\n",
      "[[ 0.14435616  0.31035425  0.3952584 ]\n",
      " [ 0.32622831  0.43419358  0.18828769]\n",
      " [ 0.76243486  0.13607457  0.45279809]]\n",
      "\n",
      "[[ 1.44356159  3.1035425   3.95258398]\n",
      " [ 3.26228311  4.34193579  1.88287689]\n",
      " [ 7.62434861  1.36074569  4.52798089]]\n",
      "3.49998433981\n",
      "10\n",
      "[[ 0.1341202   0.97279006  0.72989819]\n",
      " [ 0.21976832  0.72517923  0.91698274]\n",
      " [ 0.98607661  0.51480117  0.68935251]]\n",
      "\n",
      "[[  1.4753222   10.70069068   8.02888014]\n",
      " [  2.4174515    7.97697153  10.08681009]\n",
      " [ 10.84684267   5.66281289   7.58287764]]\n",
      "7.1976288172\n",
      "11\n",
      "[[ 0.15754475  0.98298841  0.29934715]\n",
      " [ 0.78325483  0.1658481   0.42416026]\n",
      " [ 0.98938611  0.21421737  0.20634714]]\n",
      "\n",
      "[[  1.89053705  11.79586093   3.59216585]\n",
      " [  9.39905801   1.99017721   5.0899231 ]\n",
      " [ 11.87263329   2.57060848   2.47616563]]\n",
      "5.63079217166\n"
     ]
    }
   ],
   "source": [
    "poll_means = []\n",
    "for i in range(12):\n",
    "    print i\n",
    "    print pollution[i, 1:4, 1:4]\n",
    "    pollution[i, 1:4, 1:4] *= i+1\n",
    "    print ''\n",
    "    print pollution[i, 1:4, 1:4] \n",
    "    poll_means.append(np.mean(pollution[i, 1:4, 1:4]))\n",
    "    print np.mean(pollution[i, 1:4, 1:4])"
   ]
  },
  {
   "cell_type": "code",
   "execution_count": 178,
   "metadata": {
    "collapsed": false
   },
   "outputs": [
    {
     "name": "stdout",
     "output_type": "stream",
     "text": [
      "[[  0.46377734   0.65581593   0.13297885   0.09504097   0.61297467]\n",
      " [  0.07655387   1.89053705  11.79586093   3.59216585   0.19752596]\n",
      " [  0.59415642   9.39905801   1.99017721   5.0899231    0.91668988]\n",
      " [  0.50989698  11.87263329   2.57060848   2.47616563   0.66069058]\n",
      " [  0.60831502   0.85588396   0.48329772   0.94219667   0.60539893]]\n",
      "\n",
      "[[  1.89053705  11.79586093   3.59216585]\n",
      " [  9.39905801   1.99017721   5.0899231 ]\n",
      " [ 11.87263329   2.57060848   2.47616563]]\n"
     ]
    }
   ],
   "source": [
    "print pollution[11]\n",
    "print ''\n",
    "print pollution[11, 1:4, 1:4]"
   ]
  },
  {
   "cell_type": "code",
   "execution_count": 179,
   "metadata": {
    "collapsed": true
   },
   "outputs": [],
   "source": [
    "monthly_temps = [42,44,53,64,75,83,87,84,78,67,55,45]"
   ]
  },
  {
   "cell_type": "markdown",
   "metadata": {},
   "source": [
    "The temperature transformation is going to be slightly more complicated, but still pretty straightforward."
   ]
  },
  {
   "cell_type": "code",
   "execution_count": 180,
   "metadata": {
    "collapsed": false
   },
   "outputs": [
    {
     "name": "stdout",
     "output_type": "stream",
     "text": [
      "0\n",
      "[[ 0.45456182  0.19259153  0.9227368 ]\n",
      " [ 0.43255094  0.85808925  0.99022096]\n",
      " [ 0.82817026  0.06166898  0.44514559]]\n",
      "\n",
      "[[ 0.45456182  0.19259153  0.9227368 ]\n",
      " [ 0.43255094  0.85808925  0.99022096]\n",
      " [ 0.82817026  0.06166898  0.44514559]]\n",
      "\n",
      "[[ 41.45456182  41.19259153  41.9227368 ]\n",
      " [ 41.43255094  41.85808925  41.99022096]\n",
      " [ 41.82817026  41.06166898  41.44514559]]\n",
      "41.5761929029\n",
      "1\n",
      "[[ 0.82280252  0.59088573  0.57526073]\n",
      " [ 0.27186571  0.91987076  0.96431152]\n",
      " [ 0.26534412  0.69398122  0.71733997]]\n",
      "\n",
      "[[ 1.64560505  1.18177146  1.15052147]\n",
      " [ 0.54373142  1.83974152  1.92862305]\n",
      " [ 0.53068825  1.38796244  1.43467994]]\n",
      "\n",
      "[[ 42.64560505  42.18177146  42.15052147]\n",
      " [ 41.54373142  42.83974152  42.92862305]\n",
      " [ 41.53068825  42.38796244  42.43467994]]\n",
      "42.2937027313\n",
      "2\n",
      "[[ 0.39301711  0.75849033  0.21079018]\n",
      " [ 0.23973344  0.44190644  0.44982079]\n",
      " [ 0.14059867  0.2825989   0.29596182]]\n",
      "\n",
      "[[ 1.17905134  2.27547098  0.63237055]\n",
      " [ 0.71920032  1.32571931  1.34946238]\n",
      " [ 0.421796    0.84779671  0.88788545]]\n",
      "\n",
      "[[ 52.17905134  53.27547098  51.63237055]\n",
      " [ 51.71920032  52.32571931  52.34946238]\n",
      " [ 51.421796    51.84779671  51.88788545]]\n",
      "52.0709725577\n",
      "3\n",
      "[[ 0.1997557   0.22990089  0.3652793 ]\n",
      " [ 0.88771314  0.37523697  0.09471429]\n",
      " [ 0.99210972  0.31140026  0.54736297]]\n",
      "\n",
      "[[ 0.79902281  0.91960355  1.46111719]\n",
      " [ 3.55085257  1.50094788  0.37885718]\n",
      " [ 3.96843887  1.24560106  2.18945186]]\n",
      "\n",
      "[[ 66.79902281  66.91960355  67.46111719]\n",
      " [ 69.55085257  67.50094788  66.37885718]\n",
      " [ 69.96843887  67.24560106  68.18945186]]\n",
      "67.7793214387\n",
      "4\n",
      "[[ 0.66642924  0.49685238  0.35948169]\n",
      " [ 0.2005758   0.3935029   0.70104731]\n",
      " [ 0.85564005  0.12484388  0.23829086]]\n",
      "\n",
      "[[ 3.33214618  2.48426188  1.79740844]\n",
      " [ 1.00287902  1.9675145   3.50523657]\n",
      " [ 4.27820027  0.62421939  1.19145428]]\n",
      "\n",
      "[[ 78.33214618  77.48426188  76.79740844]\n",
      " [ 76.00287902  76.9675145   78.50523657]\n",
      " [ 79.27820027  75.62421939  76.19145428]]\n",
      "77.2425911694\n",
      "5\n",
      "[[ 0.67095883  0.32588877  0.69515301]\n",
      " [ 0.9438253   0.16613645  0.8470816 ]\n",
      " [ 0.72486694  0.84324331  0.45680688]]\n",
      "\n",
      "[[ 4.02575299  1.95533262  4.17091805]\n",
      " [ 5.66295183  0.99681869  5.08248957]\n",
      " [ 4.34920161  5.05945985  2.74084131]]\n",
      "\n",
      "[[ 87.02575299  84.95533262  87.17091805]\n",
      " [ 88.66295183  83.99681869  88.08248957]\n",
      " [ 87.34920161  88.05945985  85.74084131]]\n",
      "86.7826407233\n",
      "6\n",
      "[[ 0.98413249  0.91912316  0.66929285]\n",
      " [ 0.03535129  0.86357585  0.02442691]\n",
      " [ 0.12600264  0.27120164  0.05982397]]\n",
      "\n",
      "[[ 6.88892741  6.43386214  4.68504997]\n",
      " [ 0.24745906  6.04503096  0.17098838]\n",
      " [ 0.88201846  1.8984115   0.4187678 ]]\n",
      "\n",
      "[[ 92.88892741  92.43386214  90.68504997]\n",
      " [ 86.24745906  92.04503096  86.17098838]\n",
      " [ 86.88201846  87.8984115   86.4187678 ]]\n",
      "89.0745017435\n",
      "7\n",
      "[[ 0.79860243  0.03112796  0.39691305]\n",
      " [ 0.19307052  0.57319335  0.64953882]\n",
      " [ 0.95530013  0.79262166  0.49125135]]\n",
      "\n",
      "[[ 6.38881943  0.24902371  3.17530436]\n",
      " [ 1.54456416  4.58554683  5.19631053]\n",
      " [ 7.64240104  6.34097327  3.93001082]]\n",
      "\n",
      "[[ 88.38881943  82.24902371  85.17530436]\n",
      " [ 83.54456416  86.58554683  87.19631053]\n",
      " [ 89.64240104  88.34097327  85.93001082]]\n",
      "86.3392171278\n",
      "8\n",
      "[[ 0.95607197  0.84981951  0.94176557]\n",
      " [ 0.3412524   0.02264183  0.21176285]\n",
      " [ 0.69471801  0.74358167  0.01205406]]\n",
      "\n",
      "[[ 8.60464773  7.64837556  8.47589013]\n",
      " [ 3.07127162  0.20377648  1.90586567]\n",
      " [ 6.25246211  6.69223506  0.10848658]]\n",
      "\n",
      "[[ 87.60464773  86.64837556  87.47589013]\n",
      " [ 82.07127162  79.20377648  80.90586567]\n",
      " [ 85.25246211  85.69223506  79.10848658]]\n",
      "83.7736678831\n",
      "9\n",
      "[[ 0.36366035  0.80219283  0.87487727]\n",
      " [ 0.2145643   0.49507359  0.306141  ]\n",
      " [ 0.58296917  0.36707815  0.51115228]]\n",
      "\n",
      "[[ 3.63660354  8.02192831  8.74877266]\n",
      " [ 2.14564304  4.95073591  3.06140996]\n",
      " [ 5.82969165  3.67078148  5.11152277]]\n",
      "\n",
      "[[ 71.63660354  76.02192831  76.74877266]\n",
      " [ 70.14564304  72.95073591  71.06140996]\n",
      " [ 73.82969165  71.67078148  73.11152277]]\n",
      "73.0196765915\n",
      "10\n",
      "[[ 0.51343596  0.26610725  0.21286959]\n",
      " [ 0.34782319  0.67208657  0.25085136]\n",
      " [ 0.71364027  0.73659408  0.56001874]]\n",
      "\n",
      "[[ 5.64779561  2.92717971  2.34156547]\n",
      " [ 3.8260551   7.3929523   2.75936498]\n",
      " [ 7.85004294  8.10253485  6.16020615]]\n",
      "\n",
      "[[ 60.64779561  57.92717971  57.34156547]\n",
      " [ 58.8260551   62.3929523   57.75936498]\n",
      " [ 62.85004294  63.10253485  61.16020615]]\n",
      "60.2230774586\n",
      "11\n",
      "[[ 0.42703974  0.03099112  0.89387198]\n",
      " [ 0.02184969  0.90900753  0.57354156]\n",
      " [ 0.75170824  0.85939112  0.16398903]]\n",
      "\n",
      "[[  5.12447685   0.37189339  10.7264638 ]\n",
      " [  0.26219627  10.9080904    6.88249874]\n",
      " [  9.02049883  10.31269338   1.96786837]]\n",
      "\n",
      "[[ 49.12447685  44.37189339  54.7264638 ]\n",
      " [ 44.26219627  54.9080904   50.88249874]\n",
      " [ 53.02049883  54.31269338  45.96786837]]\n",
      "50.1751866694\n"
     ]
    }
   ],
   "source": [
    "temp_means = []\n",
    "for i in range(12):\n",
    "    print i\n",
    "    print temperature[i, 1:4, 1:4]\n",
    "    print ''\n",
    "    temperature[i, 1:4, 1:4] *= i+1\n",
    "    print temperature[i, 1:4, 1:4]\n",
    "    print ''\n",
    "    temperature[i, 1:4, 1:4] += monthly_temps[i] + np.random.randint(-3,3,1)\n",
    "    print temperature[i, 1:4, 1:4]\n",
    "    temp_means.append(np.mean(temperature[i, 1:4, 1:4]))\n",
    "    print np.mean(temperature[i, 1:4, 1:4])"
   ]
  },
  {
   "cell_type": "markdown",
   "metadata": {},
   "source": [
    "Let's plot the values and see how they relate."
   ]
  },
  {
   "cell_type": "code",
   "execution_count": 181,
   "metadata": {
    "collapsed": true
   },
   "outputs": [],
   "source": [
    "import matplotlib.pyplot as plt"
   ]
  },
  {
   "cell_type": "code",
   "execution_count": 182,
   "metadata": {
    "collapsed": true
   },
   "outputs": [],
   "source": [
    "%matplotlib inline"
   ]
  },
  {
   "cell_type": "code",
   "execution_count": 183,
   "metadata": {
    "collapsed": true
   },
   "outputs": [],
   "source": [
    "plt.style.use('ggplot')\n",
    "plt.rcParams['figure.figsize'] = [12.0, 9.0] #Larger than default of 6, 4\n",
    "colors = plt.rcParams['axes.color_cycle']"
   ]
  },
  {
   "cell_type": "code",
   "execution_count": 184,
   "metadata": {
    "collapsed": false
   },
   "outputs": [
    {
     "data": {
      "image/png": "[encoded data removed]",
      "text/plain": [
       "<matplotlib.figure.Figure at 0x7fba845ab510>"
      ]
     },
     "metadata": {},
     "output_type": "display_data"
    }
   ],
   "source": [
    "p, res, _, _, _ = np.polyfit(poll_means, temp_means, 1, full=True)\n",
    "x_line = np.linspace(0,10, 100)\n",
    "yfit = np.polyval(p,x_line)\n",
    "\n",
    "plt.scatter(poll_means, temp_means, color=colors[0])\n",
    "plt.plot(x_line, yfit, color=colors[1])\n",
    "plt.title('Unnormalized correlation of pollution and temperature', fontsize=20)\n",
    "plt.ylabel('Temperature (F)', fontsize=14)\n",
    "plt.ylim([40,100])\n",
    "plt.xlabel('Pollutant Concentration (PPB)', fontsize=14)\n",
    "plt.xlim([0,8])\n",
    "plt.show()"
   ]
  },
  {
   "cell_type": "markdown",
   "metadata": {},
   "source": [
    "What's the correlation here?"
   ]
  },
  {
   "cell_type": "code",
   "execution_count": 185,
   "metadata": {
    "collapsed": true
   },
   "outputs": [],
   "source": [
    "from scipy.stats import linregress"
   ]
  },
  {
   "cell_type": "code",
   "execution_count": 186,
   "metadata": {
    "collapsed": false
   },
   "outputs": [],
   "source": [
    "slope, intercept, r_value, p_value, std_err = linregress(poll_means, temp_means)"
   ]
  },
  {
   "cell_type": "code",
   "execution_count": 187,
   "metadata": {
    "collapsed": false
   },
   "outputs": [
    {
     "name": "stdout",
     "output_type": "stream",
     "text": [
      "R^2: 0.047698492382\n",
      "p-value: 0.495279176291\n"
     ]
    }
   ],
   "source": [
    "print 'R^2:', r_value**2\n",
    "print 'p-value:', p_value"
   ]
  },
  {
   "cell_type": "markdown",
   "metadata": {},
   "source": [
    "Now what happens if we remember to normalize to the changin' o' da seasons?"
   ]
  },
  {
   "cell_type": "code",
   "execution_count": 188,
   "metadata": {
    "collapsed": true
   },
   "outputs": [],
   "source": [
    "temp_means_norm = [t/m for t,m in zip(temp_means, monthly_temps)]"
   ]
  },
  {
   "cell_type": "code",
   "execution_count": 189,
   "metadata": {
    "collapsed": false
   },
   "outputs": [
    {
     "data": {
      "image/png": "[encoded data removed]",
      "text/plain": [
       "<matplotlib.figure.Figure at 0x7fba6e42d3d0>"
      ]
     },
     "metadata": {},
     "output_type": "display_data"
    }
   ],
   "source": [
    "p, res, _, _, _ = np.polyfit(poll_means, temp_means_norm, 1, full=True)\n",
    "x_line = np.linspace(0,10, 100)\n",
    "yfit = np.polyval(p,x_line)\n",
    "\n",
    "plt.scatter(poll_means, temp_means_norm, color=colors[0])\n",
    "plt.plot(x_line, yfit, color=colors[1])\n",
    "plt.title('Normalized correlation of pollution and temperature', fontsize=20)\n",
    "plt.ylabel('Temperature (F)', fontsize=14)\n",
    "#plt.ylim([40,100])\n",
    "plt.xlabel('Pollutant Concentration (PPB)', fontsize=14)\n",
    "plt.xlim([0,8])\n",
    "plt.show()"
   ]
  },
  {
   "cell_type": "code",
   "execution_count": 190,
   "metadata": {
    "collapsed": false
   },
   "outputs": [
    {
     "name": "stdout",
     "output_type": "stream",
     "text": [
      "R^2: 0.698866643671\n",
      "p-value: 0.000704912529314\n"
     ]
    }
   ],
   "source": [
    "slope, intercept, r_value, p_value, std_err = linregress(poll_means, temp_means_norm)\n",
    "print 'R^2:', r_value**2\n",
    "print 'p-value:', p_value"
   ]
  },
  {
   "cell_type": "markdown",
   "metadata": {},
   "source": [
    "Perfect. As expected, if you normalize for the average monthly temperature, there's a statistcially significant correlation. \n",
    "\n",
    "I think I'm going so save this as both a set of csv files and as a numpy file, so players can choose."
   ]
  },
  {
   "cell_type": "code",
   "execution_count": 191,
   "metadata": {
    "collapsed": true
   },
   "outputs": [],
   "source": [
    "np.save('/home/jessime/Code/Excision/data/temperature.npy', temperature)\n",
    "np.save('/home/jessime/Code/Excision/data/pollution.npy', pollution)"
   ]
  },
  {
   "cell_type": "code",
   "execution_count": 192,
   "metadata": {
    "collapsed": true
   },
   "outputs": [],
   "source": [
    "for i in range(12):\n",
    "    np.savetxt('/home/jessime/Code/Excision/data/temperature_{}.csv'.format(i), temperature[i], delimiter=',')\n",
    "    np.savetxt('/home/jessime/Code/Excision/data/pollution_{}.csv'.format(i), pollution[i], delimiter=',')"
   ]
  },
  {
   "cell_type": "markdown",
   "metadata": {},
   "source": [
    "# Solution"
   ]
  },
  {
   "cell_type": "markdown",
   "metadata": {},
   "source": [
    "What's the perfect way that a player could answer this question?"
   ]
  },
  {
   "cell_type": "code",
   "execution_count": 194,
   "metadata": {
    "collapsed": false
   },
   "outputs": [
    {
     "name": "stdout",
     "output_type": "stream",
     "text": [
      "p-value: 0.000704912529314\n"
     ]
    }
   ],
   "source": [
    "#Get data\n",
    "temperature = np.load('/home/jessime/Code/Excision/data/temperature.npy')\n",
    "pollution = np.load('/home/jessime/Code/Excision/data/pollution.npy')\n",
    "\n",
    "#Players will have to look at a few of the months to get the range of the pollution. There will be clues.\n",
    "temp_avg = [np.mean(month[1:4,1:4]) for month in temperature]\n",
    "poll_avg = [np.mean(month[1:4,1:4]) for month in pollution]\n",
    "\n",
    "#The players will also have to correct for the average monthly temperature. This won't be known immediately.\n",
    "temp_avg_norm = [t/m for t,m in zip(temp_means, monthly_temps)]\n",
    "\n",
    "slope, intercept, r_value, p_value, std_err = linregress(poll_means, temp_means_norm)\n",
    "print 'p-value:', p_value"
   ]
  },
  {
   "cell_type": "markdown",
   "metadata": {},
   "source": [
    "Notice that it matches the p-value above."
   ]
  }
 ],
 "metadata": {
  "kernelspec": {
   "display_name": "Python 2",
   "language": "python",
   "name": "python2"
  },
  "language_info": {
   "codemirror_mode": {
    "name": "ipython",
    "version": 2
   },
   "file_extension": ".py",
   "mimetype": "text/x-python",
   "name": "python",
   "nbconvert_exporter": "python",
   "pygments_lexer": "ipython2",
   "version": "2.7.10"
  }
 },
 "nbformat": 4,
 "nbformat_minor": 0
}
