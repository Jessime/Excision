{
 "cells": [
  {
   "cell_type": "code",
   "execution_count": 1,
   "metadata": {
    "collapsed": true
   },
   "outputs": [],
   "source": [
    "import pandas as pd"
   ]
  },
  {
   "cell_type": "code",
   "execution_count": 40,
   "metadata": {
    "collapsed": true
   },
   "outputs": [],
   "source": [
    "import matplotlib.pyplot as plt"
   ]
  },
  {
   "cell_type": "code",
   "execution_count": 2,
   "metadata": {
    "collapsed": true
   },
   "outputs": [],
   "source": [
    "f = '/home/jessime/Desktop/leso-1033.csv'"
   ]
  },
  {
   "cell_type": "code",
   "execution_count": 28,
   "metadata": {
    "collapsed": true
   },
   "outputs": [],
   "source": [
    "data = pd.read_csv(f)"
   ]
  },
  {
   "cell_type": "code",
   "execution_count": 29,
   "metadata": {
    "collapsed": false,
    "scrolled": false
   },
   "outputs": [
    {
     "data": {
      "text/html": [
       "<div>\n",
       "<table border=\"1\" class=\"dataframe\">\n",
       "  <thead>\n",
       "    <tr style=\"text-align: right;\">\n",
       "      <th></th>\n",
       "      <th>State</th>\n",
       "      <th>Station Name (LEA)</th>\n",
       "      <th>NSN</th>\n",
       "      <th>Item Name</th>\n",
       "      <th>Quantity</th>\n",
       "      <th>UI</th>\n",
       "      <th>Acquisition Value</th>\n",
       "      <th>DEMIL Code</th>\n",
       "      <th>DEMIL IC</th>\n",
       "      <th>Ship Date</th>\n",
       "      <th>PSC NAME</th>\n",
       "    </tr>\n",
       "  </thead>\n",
       "  <tbody>\n",
       "    <tr>\n",
       "      <th>0</th>\n",
       "      <td>AK</td>\n",
       "      <td>ALASKA DEPT OF PUBLIC SAFETY</td>\n",
       "      <td>1005-00-073-9421</td>\n",
       "      <td>RIFLE,5.56 MILLIMETER</td>\n",
       "      <td>1</td>\n",
       "      <td>Each</td>\n",
       "      <td>499</td>\n",
       "      <td>D</td>\n",
       "      <td>1</td>\n",
       "      <td>2012-08-30</td>\n",
       "      <td>GUNS, THROUGH 30MM</td>\n",
       "    </tr>\n",
       "    <tr>\n",
       "      <th>1</th>\n",
       "      <td>AK</td>\n",
       "      <td>ALASKA DEPT OF PUBLIC SAFETY</td>\n",
       "      <td>1005-00-073-9421</td>\n",
       "      <td>RIFLE,5.56 MILLIMETER</td>\n",
       "      <td>1</td>\n",
       "      <td>Each</td>\n",
       "      <td>499</td>\n",
       "      <td>D</td>\n",
       "      <td>1</td>\n",
       "      <td>2012-08-30</td>\n",
       "      <td>GUNS, THROUGH 30MM</td>\n",
       "    </tr>\n",
       "    <tr>\n",
       "      <th>2</th>\n",
       "      <td>AK</td>\n",
       "      <td>ALASKA DEPT OF PUBLIC SAFETY</td>\n",
       "      <td>1005-00-073-9421</td>\n",
       "      <td>RIFLE,5.56 MILLIMETER</td>\n",
       "      <td>1</td>\n",
       "      <td>Each</td>\n",
       "      <td>499</td>\n",
       "      <td>D</td>\n",
       "      <td>1</td>\n",
       "      <td>2012-08-30</td>\n",
       "      <td>GUNS, THROUGH 30MM</td>\n",
       "    </tr>\n",
       "    <tr>\n",
       "      <th>3</th>\n",
       "      <td>AK</td>\n",
       "      <td>ALASKA DEPT OF PUBLIC SAFETY</td>\n",
       "      <td>1005-00-073-9421</td>\n",
       "      <td>RIFLE,5.56 MILLIMETER</td>\n",
       "      <td>1</td>\n",
       "      <td>Each</td>\n",
       "      <td>499</td>\n",
       "      <td>D</td>\n",
       "      <td>1</td>\n",
       "      <td>2012-08-30</td>\n",
       "      <td>GUNS, THROUGH 30MM</td>\n",
       "    </tr>\n",
       "    <tr>\n",
       "      <th>4</th>\n",
       "      <td>AK</td>\n",
       "      <td>ALASKA DEPT OF PUBLIC SAFETY</td>\n",
       "      <td>1005-00-073-9421</td>\n",
       "      <td>RIFLE,5.56 MILLIMETER</td>\n",
       "      <td>1</td>\n",
       "      <td>Each</td>\n",
       "      <td>499</td>\n",
       "      <td>D</td>\n",
       "      <td>1</td>\n",
       "      <td>2012-08-30</td>\n",
       "      <td>GUNS, THROUGH 30MM</td>\n",
       "    </tr>\n",
       "  </tbody>\n",
       "</table>\n",
       "</div>"
      ],
      "text/plain": [
       "  State            Station Name (LEA)               NSN  \\\n",
       "0    AK  ALASKA DEPT OF PUBLIC SAFETY  1005-00-073-9421   \n",
       "1    AK  ALASKA DEPT OF PUBLIC SAFETY  1005-00-073-9421   \n",
       "2    AK  ALASKA DEPT OF PUBLIC SAFETY  1005-00-073-9421   \n",
       "3    AK  ALASKA DEPT OF PUBLIC SAFETY  1005-00-073-9421   \n",
       "4    AK  ALASKA DEPT OF PUBLIC SAFETY  1005-00-073-9421   \n",
       "\n",
       "               Item Name  Quantity    UI  Acquisition Value DEMIL Code  \\\n",
       "0  RIFLE,5.56 MILLIMETER         1  Each                499          D   \n",
       "1  RIFLE,5.56 MILLIMETER         1  Each                499          D   \n",
       "2  RIFLE,5.56 MILLIMETER         1  Each                499          D   \n",
       "3  RIFLE,5.56 MILLIMETER         1  Each                499          D   \n",
       "4  RIFLE,5.56 MILLIMETER         1  Each                499          D   \n",
       "\n",
       "   DEMIL IC   Ship Date            PSC NAME  \n",
       "0         1  2012-08-30  GUNS, THROUGH 30MM  \n",
       "1         1  2012-08-30  GUNS, THROUGH 30MM  \n",
       "2         1  2012-08-30  GUNS, THROUGH 30MM  \n",
       "3         1  2012-08-30  GUNS, THROUGH 30MM  \n",
       "4         1  2012-08-30  GUNS, THROUGH 30MM  "
      ]
     },
     "execution_count": 29,
     "metadata": {},
     "output_type": "execute_result"
    }
   ],
   "source": [
    "data.head()"
   ]
  },
  {
   "cell_type": "markdown",
   "metadata": {},
   "source": [
    "How many types of items are there?"
   ]
  },
  {
   "cell_type": "code",
   "execution_count": 30,
   "metadata": {
    "collapsed": false
   },
   "outputs": [
    {
     "data": {
      "text/plain": [
       "7796"
      ]
     },
     "execution_count": 30,
     "metadata": {},
     "output_type": "execute_result"
    }
   ],
   "source": [
    "len(set(data['Item Name']))"
   ]
  },
  {
   "cell_type": "markdown",
   "metadata": {},
   "source": [
    "Show 20 different items."
   ]
  },
  {
   "cell_type": "code",
   "execution_count": 31,
   "metadata": {
    "collapsed": false
   },
   "outputs": [
    {
     "data": {
      "text/plain": [
       "[nan,\n",
       " 'PARKA              ',\n",
       " 'LOOP,LANYARD       ',\n",
       " 'BODY ARMOR VEST    ',\n",
       " 'COMPARATOR,OPTICAL PROJECTION',\n",
       " 'CABLE ASSEMBLY,POWER,ELECTRICAL',\n",
       " 'PACK,FANNY         ',\n",
       " 'DESC=RADAR GUN SPEED ',\n",
       " 'GLOVES,IMPACT PROTECTIVE',\n",
       " 'CALIPER,DISC BRAKE',\n",
       " 'DESC=HELMET  TACTICAL BALLISTIC ',\n",
       " 'COUNTER,TABLET,AUTOMATIC',\n",
       " 'GLIDERS',\n",
       " 'FOAM POWDER,FIRE EXTINGUISHING',\n",
       " 'DESC=GEAR ASSEMBLY LANDING CROSSTU ',\n",
       " 'DESC=THERMAL IMAGING ',\n",
       " 'DISK DRIVE HARD    ',\n",
       " 'PARTS KIT,DIESEL ENGINE',\n",
       " 'TROUSERS,COMBAT',\n",
       " 'BOLT,HOOK']"
      ]
     },
     "execution_count": 31,
     "metadata": {},
     "output_type": "execute_result"
    }
   ],
   "source": [
    "list(set(data['Item Name']))[:20]"
   ]
  },
  {
   "cell_type": "markdown",
   "metadata": {},
   "source": [
    "How much does all of this cost?"
   ]
  },
  {
   "cell_type": "code",
   "execution_count": 32,
   "metadata": {
    "collapsed": false
   },
   "outputs": [
    {
     "data": {
      "text/plain": [
       "1654630887"
      ]
     },
     "execution_count": 32,
     "metadata": {},
     "output_type": "execute_result"
    }
   ],
   "source": [
    "int(data['Acquisition Value'].sum())"
   ]
  },
  {
   "cell_type": "code",
   "execution_count": 33,
   "metadata": {
    "collapsed": false
   },
   "outputs": [
    {
     "data": {
      "text/plain": [
       "State                  object\n",
       "Station Name (LEA)     object\n",
       "NSN                    object\n",
       "Item Name              object\n",
       "Quantity              float64\n",
       "UI                     object\n",
       "Acquisition Value     float64\n",
       "DEMIL Code             object\n",
       "DEMIL IC              float64\n",
       "Ship Date              object\n",
       "PSC NAME               object\n",
       "dtype: object"
      ]
     },
     "execution_count": 33,
     "metadata": {},
     "output_type": "execute_result"
    }
   ],
   "source": [
    "data.dtypes"
   ]
  },
  {
   "cell_type": "code",
   "execution_count": 34,
   "metadata": {
    "collapsed": false
   },
   "outputs": [],
   "source": [
    "data['Ship Date'] = pd.to_datetime(data['Ship Date'])"
   ]
  },
  {
   "cell_type": "code",
   "execution_count": 35,
   "metadata": {
    "collapsed": false,
    "scrolled": true
   },
   "outputs": [
    {
     "data": {
      "text/plain": [
       "State                         object\n",
       "Station Name (LEA)            object\n",
       "NSN                           object\n",
       "Item Name                     object\n",
       "Quantity                     float64\n",
       "UI                            object\n",
       "Acquisition Value            float64\n",
       "DEMIL Code                    object\n",
       "DEMIL IC                     float64\n",
       "Ship Date             datetime64[ns]\n",
       "PSC NAME                      object\n",
       "dtype: object"
      ]
     },
     "execution_count": 35,
     "metadata": {},
     "output_type": "execute_result"
    }
   ],
   "source": [
    "data.dtypes"
   ]
  },
  {
   "cell_type": "markdown",
   "metadata": {},
   "source": [
    "What I want to do now is plot how much is spent over time."
   ]
  },
  {
   "cell_type": "code",
   "execution_count": 36,
   "metadata": {
    "collapsed": false
   },
   "outputs": [],
   "source": [
    "data_idx = data.set_index(data['Ship Date'])"
   ]
  },
  {
   "cell_type": "code",
   "execution_count": 37,
   "metadata": {
    "collapsed": false
   },
   "outputs": [],
   "source": [
    "month_data = data_idx.groupby(pd.TimeGrouper(freq='M')).sum()"
   ]
  },
  {
   "cell_type": "code",
   "execution_count": 39,
   "metadata": {
    "collapsed": false
   },
   "outputs": [
    {
     "data": {
      "text/html": [
       "<div>\n",
       "<table border=\"1\" class=\"dataframe\">\n",
       "  <thead>\n",
       "    <tr style=\"text-align: right;\">\n",
       "      <th></th>\n",
       "      <th>Quantity</th>\n",
       "      <th>Acquisition Value</th>\n",
       "      <th>DEMIL IC</th>\n",
       "    </tr>\n",
       "    <tr>\n",
       "      <th>Ship Date</th>\n",
       "      <th></th>\n",
       "      <th></th>\n",
       "      <th></th>\n",
       "    </tr>\n",
       "  </thead>\n",
       "  <tbody>\n",
       "    <tr>\n",
       "      <th>1990-10-31</th>\n",
       "      <td>1</td>\n",
       "      <td>98162</td>\n",
       "      <td>1</td>\n",
       "    </tr>\n",
       "    <tr>\n",
       "      <th>1990-11-30</th>\n",
       "      <td>NaN</td>\n",
       "      <td>NaN</td>\n",
       "      <td>NaN</td>\n",
       "    </tr>\n",
       "    <tr>\n",
       "      <th>1990-12-31</th>\n",
       "      <td>NaN</td>\n",
       "      <td>NaN</td>\n",
       "      <td>NaN</td>\n",
       "    </tr>\n",
       "    <tr>\n",
       "      <th>1991-01-31</th>\n",
       "      <td>1</td>\n",
       "      <td>98162</td>\n",
       "      <td>1</td>\n",
       "    </tr>\n",
       "    <tr>\n",
       "      <th>1991-02-28</th>\n",
       "      <td>NaN</td>\n",
       "      <td>NaN</td>\n",
       "      <td>NaN</td>\n",
       "    </tr>\n",
       "    <tr>\n",
       "      <th>1991-03-31</th>\n",
       "      <td>NaN</td>\n",
       "      <td>NaN</td>\n",
       "      <td>NaN</td>\n",
       "    </tr>\n",
       "    <tr>\n",
       "      <th>1991-04-30</th>\n",
       "      <td>32</td>\n",
       "      <td>226059</td>\n",
       "      <td>34</td>\n",
       "    </tr>\n",
       "    <tr>\n",
       "      <th>1991-05-31</th>\n",
       "      <td>NaN</td>\n",
       "      <td>NaN</td>\n",
       "      <td>NaN</td>\n",
       "    </tr>\n",
       "    <tr>\n",
       "      <th>1991-06-30</th>\n",
       "      <td>3</td>\n",
       "      <td>16779</td>\n",
       "      <td>2</td>\n",
       "    </tr>\n",
       "    <tr>\n",
       "      <th>1991-07-31</th>\n",
       "      <td>25</td>\n",
       "      <td>102625</td>\n",
       "      <td>25</td>\n",
       "    </tr>\n",
       "    <tr>\n",
       "      <th>1991-08-31</th>\n",
       "      <td>2</td>\n",
       "      <td>86752</td>\n",
       "      <td>12</td>\n",
       "    </tr>\n",
       "    <tr>\n",
       "      <th>1991-09-30</th>\n",
       "      <td>NaN</td>\n",
       "      <td>NaN</td>\n",
       "      <td>NaN</td>\n",
       "    </tr>\n",
       "    <tr>\n",
       "      <th>1991-10-31</th>\n",
       "      <td>NaN</td>\n",
       "      <td>NaN</td>\n",
       "      <td>NaN</td>\n",
       "    </tr>\n",
       "    <tr>\n",
       "      <th>1991-11-30</th>\n",
       "      <td>NaN</td>\n",
       "      <td>NaN</td>\n",
       "      <td>NaN</td>\n",
       "    </tr>\n",
       "    <tr>\n",
       "      <th>1991-12-31</th>\n",
       "      <td>4</td>\n",
       "      <td>16420</td>\n",
       "      <td>4</td>\n",
       "    </tr>\n",
       "  </tbody>\n",
       "</table>\n",
       "</div>"
      ],
      "text/plain": [
       "            Quantity  Acquisition Value  DEMIL IC\n",
       "Ship Date                                        \n",
       "1990-10-31         1              98162         1\n",
       "1990-11-30       NaN                NaN       NaN\n",
       "1990-12-31       NaN                NaN       NaN\n",
       "1991-01-31         1              98162         1\n",
       "1991-02-28       NaN                NaN       NaN\n",
       "1991-03-31       NaN                NaN       NaN\n",
       "1991-04-30        32             226059        34\n",
       "1991-05-31       NaN                NaN       NaN\n",
       "1991-06-30         3              16779         2\n",
       "1991-07-31        25             102625        25\n",
       "1991-08-31         2              86752        12\n",
       "1991-09-30       NaN                NaN       NaN\n",
       "1991-10-31       NaN                NaN       NaN\n",
       "1991-11-30       NaN                NaN       NaN\n",
       "1991-12-31         4              16420         4"
      ]
     },
     "execution_count": 39,
     "metadata": {},
     "output_type": "execute_result"
    }
   ],
   "source": [
    "month_data.head(n=15)"
   ]
  },
  {
   "cell_type": "code",
   "execution_count": 74,
   "metadata": {
    "collapsed": true
   },
   "outputs": [],
   "source": [
    "%matplotlib inline"
   ]
  },
  {
   "cell_type": "code",
   "execution_count": 72,
   "metadata": {
    "collapsed": true
   },
   "outputs": [],
   "source": [
    "%matplotlib qt"
   ]
  },
  {
   "cell_type": "code",
   "execution_count": 76,
   "metadata": {
    "collapsed": true
   },
   "outputs": [],
   "source": [
    "plt.style.use('ggplot')\n",
    "plt.rcParams['figure.figsize'] = [12.0, 9.0] #Larger than default of 6, 4"
   ]
  },
  {
   "cell_type": "code",
   "execution_count": 77,
   "metadata": {
    "collapsed": false
   },
   "outputs": [
    {
     "data": {
      "image/png": "[encoded data removed]",
      "text/plain": [
       "<matplotlib.figure.Figure at 0x7fe189036150>"
      ]
     },
     "metadata": {},
     "output_type": "display_data"
    }
   ],
   "source": [
    "ax = month_data.plot(y='Acquisition Value', legend=False, fontsize=18)\n",
    "ax.set_ylabel(\"Acquisition Value x $100,000,000\",fontsize=20)\n",
    "ax.set_xlabel(\"Ship Date\", fontsize=20)\n",
    "ax.set_title('Total Police Spending on Military Gear', fontsize=24)\n",
    "plt.show()"
   ]
  },
  {
   "cell_type": "code",
   "execution_count": 54,
   "metadata": {
    "collapsed": false
   },
   "outputs": [
    {
     "data": {
      "text/plain": [
       "100000000.0"
      ]
     },
     "execution_count": 54,
     "metadata": {},
     "output_type": "execute_result"
    }
   ],
   "source": [
    "1E8"
   ]
  },
  {
   "cell_type": "code",
   "execution_count": null,
   "metadata": {
    "collapsed": true
   },
   "outputs": [],
   "source": []
  }
 ],
 "metadata": {
  "kernelspec": {
   "display_name": "Python 2",
   "language": "python",
   "name": "python2"
  },
  "language_info": {
   "codemirror_mode": {
    "name": "ipython",
    "version": 2
   },
   "file_extension": ".py",
   "mimetype": "text/x-python",
   "name": "python",
   "nbconvert_exporter": "python",
   "pygments_lexer": "ipython2",
   "version": "2.7.10"
  }
 },
 "nbformat": 4,
 "nbformat_minor": 0
}
