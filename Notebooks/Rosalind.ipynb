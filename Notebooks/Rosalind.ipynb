{
 "cells": [
  {
   "cell_type": "markdown",
   "metadata": {},
   "source": [
    "# Counting DNA Nucleotides"
   ]
  },
  {
   "cell_type": "code",
   "execution_count": 3,
   "metadata": {
    "collapsed": true
   },
   "outputs": [],
   "source": [
    "from collections import Counter\n",
    "def count_bases(seq):\n",
    "    bases = Counter(seq)\n",
    "    print bases['A'], bases['C'], bases['G'], bases['T']"
   ]
  },
  {
   "cell_type": "code",
   "execution_count": 4,
   "metadata": {
    "collapsed": false
   },
   "outputs": [
    {
     "name": "stdout",
     "output_type": "stream",
     "text": [
      "20 12 17 21\n"
     ]
    }
   ],
   "source": [
    "s = 'AGCTTTTCATTCTGACTGCAACGGGCAATATGTCTCTGTGTGGATTAAAAAAAGAGTGTCTGATAGCAGC'\n",
    "count_bases(s)"
   ]
  },
  {
   "cell_type": "code",
   "execution_count": 5,
   "metadata": {
    "collapsed": false
   },
   "outputs": [
    {
     "name": "stdout",
     "output_type": "stream",
     "text": [
      "237 244 248 253\n"
     ]
    }
   ],
   "source": [
    "with open('/home/jessime/Downloads/rosalind_dna.txt') as infile:\n",
    "    s = infile.read()\n",
    "    count_bases(s)"
   ]
  },
  {
   "cell_type": "markdown",
   "metadata": {},
   "source": [
    "# Transcribing DNA into RNA"
   ]
  },
  {
   "cell_type": "code",
   "execution_count": 10,
   "metadata": {
    "collapsed": true
   },
   "outputs": [],
   "source": [
    "def dna2rna(seq):\n",
    "    print seq\n",
    "    print ''\n",
    "    print seq.replace('T', 'U')"
   ]
  },
  {
   "cell_type": "code",
   "execution_count": 11,
   "metadata": {
    "collapsed": false
   },
   "outputs": [
    {
     "name": "stdout",
     "output_type": "stream",
     "text": [
      "GATGGAACTTGACTACGTAAATT\n",
      "\n",
      "GAUGGAACUUGACUACGUAAAUU\n"
     ]
    }
   ],
   "source": [
    "s = 'GATGGAACTTGACTACGTAAATT'\n",
    "dna2rna(s)"
   ]
  },
  {
   "cell_type": "code",
   "execution_count": 14,
   "metadata": {
    "collapsed": false
   },
   "outputs": [
    {
     "name": "stdout",
     "output_type": "stream",
     "text": [
      "CATCCCAGTGTTATCGTTAGTGGACAATGGTACGATATCATATGTTTCATACTGTCGGTGCTAAATTGAGGTACAGCGTCTCTGGTAACACCTAACGTTCACTACCTTCCATATGCCTGCAGCAAACCTAGTTCAGGATTATGGATCTTGGCCAACGGGAAAGTTGGGCTCTTGGCAATGCCTTCATGGTGATGATTGAAAAGGCGTCCTCCGCTTACCTAAACTGTAGTATCGCAAGGGTTGGCGATAGCTTGTGGGTATGGCTTGACGGCAATTCTTTCCCCCCGTAGCGCTTATACGAGAATGAATACTTTCAAAATTTCCTTGGTCAACTCCCGCCAGCAGCGTATGTTTCCACTAAAGTCGGGAGGGATCTTCGTTTGCGCGAAGCGGAGAGACTTACATAGACTTATAGGGGCATAGTTTGCTCAAGAAACAGGGCCCCCAGTTAGACCACCGGATCCGGCTTTTAAATTTGAAGTGCTCGGCTGATGCTGTAGATCGTTCACGGCGACTCTTGGATGCAGATGTCATCGGAGGTACCCAATCCTTACTGAATTGGCGTTATCCAACTCGACGTGCGGTGCGCGGAAAAGTCGACAGCCTGTTAACCGTGGCTTGAGGACCTTAAAGTATCTTTTAAGTACTTTGACGCCGACCCGAAACTAAAGGATTCCACACGGATATGTCTTTTGAGCCGGGATTCGCGCGGCATTCGGGGTCAGCTCGCGTGGGTCGACCCGATAAAGAGGGAGGTAATTAGCTTGTTGGCTAGAAAGTGTGCATCAAGTTAGCCCGCAGTACTCGCAACCATGTTCGCGCTTCTAAAATTATTCGTCCTCCTGGAGAGGCGAAGTTTCCTACGGCTCCAGGACTTGCCAGTTCTCAACTAACTAATTTCTCAAATTTGTATCTGAAAGACGTATCCTTCATCCTACCAACTCAAGGAAAGTCAATAGGCCTAATCACCTTG\n",
      "\n",
      "\n",
      "CAUCCCAGUGUUAUCGUUAGUGGACAAUGGUACGAUAUCAUAUGUUUCAUACUGUCGGUGCUAAAUUGAGGUACAGCGUCUCUGGUAACACCUAACGUUCACUACCUUCCAUAUGCCUGCAGCAAACCUAGUUCAGGAUUAUGGAUCUUGGCCAACGGGAAAGUUGGGCUCUUGGCAAUGCCUUCAUGGUGAUGAUUGAAAAGGCGUCCUCCGCUUACCUAAACUGUAGUAUCGCAAGGGUUGGCGAUAGCUUGUGGGUAUGGCUUGACGGCAAUUCUUUCCCCCCGUAGCGCUUAUACGAGAAUGAAUACUUUCAAAAUUUCCUUGGUCAACUCCCGCCAGCAGCGUAUGUUUCCACUAAAGUCGGGAGGGAUCUUCGUUUGCGCGAAGCGGAGAGACUUACAUAGACUUAUAGGGGCAUAGUUUGCUCAAGAAACAGGGCCCCCAGUUAGACCACCGGAUCCGGCUUUUAAAUUUGAAGUGCUCGGCUGAUGCUGUAGAUCGUUCACGGCGACUCUUGGAUGCAGAUGUCAUCGGAGGUACCCAAUCCUUACUGAAUUGGCGUUAUCCAACUCGACGUGCGGUGCGCGGAAAAGUCGACAGCCUGUUAACCGUGGCUUGAGGACCUUAAAGUAUCUUUUAAGUACUUUGACGCCGACCCGAAACUAAAGGAUUCCACACGGAUAUGUCUUUUGAGCCGGGAUUCGCGCGGCAUUCGGGGUCAGCUCGCGUGGGUCGACCCGAUAAAGAGGGAGGUAAUUAGCUUGUUGGCUAGAAAGUGUGCAUCAAGUUAGCCCGCAGUACUCGCAACCAUGUUCGCGCUUCUAAAAUUAUUCGUCCUCCUGGAGAGGCGAAGUUUCCUACGGCUCCAGGACUUGCCAGUUCUCAACUAACUAAUUUCUCAAAUUUGUAUCUGAAAGACGUAUCCUUCAUCCUACCAACUCAAGGAAAGUCAAUAGGCCUAAUCACCUUG\n",
      "\n"
     ]
    }
   ],
   "source": [
    "with open('/home/jessime/Downloads/rosalind_rna.txt') as infile:\n",
    "    s = infile.read()\n",
    "    dna2rna(s)"
   ]
  },
  {
   "cell_type": "markdown",
   "metadata": {},
   "source": [
    "# Complementing a Strand of DNA"
   ]
  },
  {
   "cell_type": "code",
   "execution_count": 27,
   "metadata": {
    "collapsed": true
   },
   "outputs": [],
   "source": [
    "def rev_complement(seq):\n",
    "    print seq\n",
    "    print ''\n",
    "    comp = {'A':'T', 'G':'C','C':'G','T':'A'}\n",
    "    new_seq = [comp[b] for b in seq]\n",
    "    new_seq = ''.join(new_seq[::-1])\n",
    "    print new_seq"
   ]
  },
  {
   "cell_type": "code",
   "execution_count": 28,
   "metadata": {
    "collapsed": false
   },
   "outputs": [
    {
     "name": "stdout",
     "output_type": "stream",
     "text": [
      "AAAACCCGGT\n",
      "\n",
      "ACCGGGTTTT\n"
     ]
    }
   ],
   "source": [
    "s = 'AAAACCCGGT'\n",
    "rev_complement(s)"
   ]
  },
  {
   "cell_type": "code",
   "execution_count": 29,
   "metadata": {
    "collapsed": false
   },
   "outputs": [
    {
     "name": "stdout",
     "output_type": "stream",
     "text": [
      "ACACAGTTTACCTCGACCGGCCCCTGTCCCGCTAACAATACATCCCGTGACAATCGGTCAATACTACTGCTAGTAGAGGTCGGAGGGGTCCGGGATGGGATAGGAAGCCGGCCCGATATATTGGGGCCAAGTCGGCGCATCTTGCCAATGCTGCCTTGCGAGTGCTAACCAGGTGTGATGGTTACTTCTCCAGCCAATGCGCCGTCATACTGACCAAACGCAGAACTCGACGGTTACCATACCATTCCGTGCTCCAATGACGTGAGAGGCTAGTCGTACCACGGCTGAGGTCTACCACTACCTGTGCACCGAATCTTTTATCTATGAGGCTTACCCTACCGAGTGTCCCAACCAGATCGCTGGGAGAGCATTATGGGATGCTGCCTGGTCGATAGAGTTCTAACGAGTAAGGGTGCTCCACGTCGAACGTTCCGCCGGCCCGTTCTAGAACCTAGGGATTTCTAAGTGAGTATTGTGAAGGCATCTATCGTTCTGATCGCAGTCCTACCGTGTTCTAAGCAGGTGAGCCCCGGACAGTTACCATATGTGAGGCAAAGCGTCACCTGGAATGTTTACAGATGAGGGCACCTACCCGAATCTTCTGGCAATGCCTTAAGCCATCGGATATAAGGTATCCAATAGTGCTCTAGCCGCGGTTGGGGCCCAAGCTTTGTGACCCGCCTTGCAGCCAAGAAGGTGATCTAGTTGGTGTTTGGGAGCCATGCCTGTGATCTGTTCAGTACGTGTGGACGTGGATTTGCTCTGTAGTACCCCTGATAGTTGCCGGCACGCGATACCCTGATGTCGCTCGGGTTCACCTTGATACCGCCCACATTCATGCTCCGTCAGGCAAGCGACAGGCCGCCAGCCGTATCTAAATTGTCGGTCCAGATGACGGATAAAGGGCTCATGATACGAATAGCAGGTTTGTCGACGTCAACTGCCGACTGATCCAGGGTCAGAACTAAAGACA\n",
      "\n",
      "TGTCTTTAGTTCTGACCCTGGATCAGTCGGCAGTTGACGTCGACAAACCTGCTATTCGTATCATGAGCCCTTTATCCGTCATCTGGACCGACAATTTAGATACGGCTGGCGGCCTGTCGCTTGCCTGACGGAGCATGAATGTGGGCGGTATCAAGGTGAACCCGAGCGACATCAGGGTATCGCGTGCCGGCAACTATCAGGGGTACTACAGAGCAAATCCACGTCCACACGTACTGAACAGATCACAGGCATGGCTCCCAAACACCAACTAGATCACCTTCTTGGCTGCAAGGCGGGTCACAAAGCTTGGGCCCCAACCGCGGCTAGAGCACTATTGGATACCTTATATCCGATGGCTTAAGGCATTGCCAGAAGATTCGGGTAGGTGCCCTCATCTGTAAACATTCCAGGTGACGCTTTGCCTCACATATGGTAACTGTCCGGGGCTCACCTGCTTAGAACACGGTAGGACTGCGATCAGAACGATAGATGCCTTCACAATACTCACTTAGAAATCCCTAGGTTCTAGAACGGGCCGGCGGAACGTTCGACGTGGAGCACCCTTACTCGTTAGAACTCTATCGACCAGGCAGCATCCCATAATGCTCTCCCAGCGATCTGGTTGGGACACTCGGTAGGGTAAGCCTCATAGATAAAAGATTCGGTGCACAGGTAGTGGTAGACCTCAGCCGTGGTACGACTAGCCTCTCACGTCATTGGAGCACGGAATGGTATGGTAACCGTCGAGTTCTGCGTTTGGTCAGTATGACGGCGCATTGGCTGGAGAAGTAACCATCACACCTGGTTAGCACTCGCAAGGCAGCATTGGCAAGATGCGCCGACTTGGCCCCAATATATCGGGCCGGCTTCCTATCCCATCCCGGACCCCTCCGACCTCTACTAGCAGTAGTATTGACCGATTGTCACGGGATGTATTGTTAGCGGGACAGGGGCCGGTCGAGGTAAACTGTGT\n"
     ]
    }
   ],
   "source": [
    "with open('/home/jessime/Downloads/rosalind_revc.txt') as infile:\n",
    "    s = infile.read().strip()\n",
    "    rev_complement(s)"
   ]
  },
  {
   "cell_type": "markdown",
   "metadata": {},
   "source": [
    "# Computing GC Content"
   ]
  },
  {
   "cell_type": "code",
   "execution_count": 43,
   "metadata": {
    "collapsed": true
   },
   "outputs": [],
   "source": [
    "def max_gc(fasta):\n",
    "    max_seq = None\n",
    "    max_gc = 0\n",
    "    gc = 0\n",
    "    len_seq = 0\n",
    "    \n",
    "    for line in fasta:\n",
    "        if line['0'] == '>':\n",
    "            name = line[:1]\n",
    "            \n",
    "            \n",
    "    data = fasta.split('\\n')\n",
    "\n",
    "    for line in data:\n",
    "        print line\n",
    "        if line[0] == '>':\n",
    "            name = line[1:]\n",
    "        else:\n",
    "            bases = Counter(line)\n",
    "            gc = (bases['G'] + bases['C'])/float(len(line.strip()))\n",
    "            if gc > max_gc:\n",
    "                max_gc = gc\n",
    "                max_seq = name\n",
    "    print max_seq\n",
    "    print max_gc"
   ]
  },
  {
   "cell_type": "code",
   "execution_count": 45,
   "metadata": {
    "collapsed": false
   },
   "outputs": [
    {
     "name": "stdout",
     "output_type": "stream",
     "text": [
      ">Rosalind_6404\n",
      "CCTGCGGAAGATCGGCACTAGAATAGCCAGAACCGTTTCTCTGAGGCTTCCGGCCTTCCC\n",
      "35\n",
      "60.0\n",
      "TCCCACTAATAATTCTGAGG\n",
      "8\n",
      "20.0\n",
      ">Rosalind_5959\n",
      "CCATCGGTAGCGCATCCTTAGTCCAATTAAGTCCCTATCCAGGCGCTCCGCCGAAGGTCT\n",
      "34\n",
      "60.0\n",
      "ATATCCATTTGTCAGCAGACACGC\n",
      "11\n",
      "24.0\n",
      ">Rosalind_0808\n",
      "CCACCCTCGTGGTATGGCTAGGCATTCAGGAACCGGAGAACGCTTCAGACCAGCCCGGAC\n",
      "37\n",
      "60.0\n",
      "TGGGAACCTGCGGGCAGTAGGTGGAAT\n",
      "16\n",
      "27.0\n",
      "Rosalind_0808\n",
      "0.616666666667\n"
     ]
    }
   ],
   "source": [
    "s = \"\"\">Rosalind_6404\n",
    "CCTGCGGAAGATCGGCACTAGAATAGCCAGAACCGTTTCTCTGAGGCTTCCGGCCTTCCC\n",
    "TCCCACTAATAATTCTGAGG\n",
    ">Rosalind_5959\n",
    "CCATCGGTAGCGCATCCTTAGTCCAATTAAGTCCCTATCCAGGCGCTCCGCCGAAGGTCT\n",
    "ATATCCATTTGTCAGCAGACACGC\n",
    ">Rosalind_0808\n",
    "CCACCCTCGTGGTATGGCTAGGCATTCAGGAACCGGAGAACGCTTCAGACCAGCCCGGAC\n",
    "TGGGAACCTGCGGGCAGTAGGTGGAAT\"\"\"\n",
    "\n",
    "max_gc(s)"
   ]
  },
  {
   "cell_type": "code",
   "execution_count": 40,
   "metadata": {
    "collapsed": false
   },
   "outputs": [
    {
     "name": "stdout",
     "output_type": "stream",
     "text": [
      "87\n",
      "29\n",
      "24\n"
     ]
    }
   ],
   "source": [
    "s = \"CCACCCTCGTGGTATGGCTAGGCATTCAGGAACCGGAGAACGCTTCAGACCAGCCCGGACTGGGAACCTGCGGGCAGTAGGTGGAAT\"\n",
    "print len(s)\n",
    "print s.count('G')\n",
    "print s.count('C')"
   ]
  },
  {
   "cell_type": "code",
   "execution_count": 42,
   "metadata": {
    "collapsed": false
   },
   "outputs": [
    {
     "data": {
      "text/plain": [
       "53"
      ]
     },
     "execution_count": 42,
     "metadata": {},
     "output_type": "execute_result"
    }
   ],
   "source": [
    "(24+29)"
   ]
  },
  {
   "cell_type": "code",
   "execution_count": 95,
   "metadata": {
    "collapsed": false
   },
   "outputs": [],
   "source": [
    "def max_gc(fasta):\n",
    "    #build lists\n",
    "    names_ls = []\n",
    "    seqs_ls = []\n",
    "    current_seq = ''\n",
    "    with open(fasta) as fasta:\n",
    "        for line in fasta:\n",
    "            if line[0] == '>':\n",
    "                names_ls.append(line[1:].strip())\n",
    "                if current_seq:\n",
    "                    seqs_ls.append(current_seq)\n",
    "                    current_seq = ''\n",
    "            else:\n",
    "                current_seq += line.strip()\n",
    "        seqs_ls.append(current_seq)     \n",
    "\n",
    "    #calc gc\n",
    "    max_seq = None\n",
    "    max_gc = 0\n",
    "    for name, seq in zip(names_ls, seqs_ls):\n",
    "        gc = (seq.count('G')+seq.count('C'))/float(len(seq))*100\n",
    "        print name, gc\n",
    "        if gc > max_gc:\n",
    "            max_gc = gc\n",
    "            max_seq = name\n",
    "\n",
    "    print max_seq\n",
    "    print max_gc\n",
    "        "
   ]
  },
  {
   "cell_type": "code",
   "execution_count": 97,
   "metadata": {
    "collapsed": false
   },
   "outputs": [
    {
     "name": "stdout",
     "output_type": "stream",
     "text": [
      "8\n",
      "8\n",
      "Rosalind_0450 51.3116474292\n",
      "Rosalind_7272 50.5434782609\n",
      "Rosalind_8905 48.4375\n",
      "Rosalind_4092 49.5464852608\n",
      "Rosalind_3126 52.787258248\n",
      "Rosalind_4517 50.6815365551\n",
      "Rosalind_7293 52.8199566161\n",
      "Rosalind_8059 49.7371188223\n",
      "Rosalind_7293\n",
      "52.8199566161\n"
     ]
    }
   ],
   "source": [
    "max_gc('/home/jessime/Downloads/rosalind_gc6.txt')"
   ]
  },
  {
   "cell_type": "code",
   "execution_count": 72,
   "metadata": {
    "collapsed": true
   },
   "outputs": [],
   "source": [
    "l = ['CCTGCGGAAGATCGGCACTAGAATAGCCAGAACCGTTTCTCTGAGGCTTCCGGCCTTCCCTCCCACTAATAATTCTGAGG', 'CCTGCGGAAGATCGGCACTAGAATAGCCAGAACCGTTTCTCTGAGGCTTCCGGCCTTCCCTCCCACTAATAATTCTGAGGCCATCGGTAGCGCATCCTTAGTCCAATTAAGTCCCTATCCAGGCGCTCCGCCGAAGGTCTATATCCATTTGTCAGCAGACACGC', 'CCTGCGGAAGATCGGCACTAGAATAGCCAGAACCGTTTCTCTGAGGCTTCCGGCCTTCCCTCCCACTAATAATTCTGAGGCCATCGGTAGCGCATCCTTAGTCCAATTAAGTCCCTATCCAGGCGCTCCGCCGAAGGTCTATATCCATTTGTCAGCAGACACGCCCACCCTCGTGGTATGGCTAGGCATTCAGGAACCGGAGAACGCTTCAGACCAGCCCGGACTGGGAACCTGCGGGCAGTAGGTGGAAT']"
   ]
  },
  {
   "cell_type": "code",
   "execution_count": 73,
   "metadata": {
    "collapsed": false
   },
   "outputs": [
    {
     "data": {
      "text/plain": [
       "'CCTGCGGAAGATCGGCACTAGAATAGCCAGAACCGTTTCTCTGAGGCTTCCGGCCTTCCCTCCCACTAATAATTCTGAGGCCATCGGTAGCGCATCCTTAGTCCAATTAAGTCCCTATCCAGGCGCTCCGCCGAAGGTCTATATCCATTTGTCAGCAGACACGCCCACCCTCGTGGTATGGCTAGGCATTCAGGAACCGGAGAACGCTTCAGACCAGCCCGGACTGGGAACCTGCGGGCAGTAGGTGGAAT'"
      ]
     },
     "execution_count": 73,
     "metadata": {},
     "output_type": "execute_result"
    }
   ],
   "source": [
    "l[-1]"
   ]
  },
  {
   "cell_type": "code",
   "execution_count": 86,
   "metadata": {
    "collapsed": true
   },
   "outputs": [],
   "source": [
    "s1 = 'GTCTGCCCTCCCGGGCCCTAGTTGTTCTCTTAGCTAACTTCACTGTAATTATCATAAACAATTTCCACTTTCTTTCAGTATTATTGCACGCATAAGGGGGTGACGGGACAACTATAATATGTCTTACTTGAAGTAATGCATCTAGTCGTAAAAGGTGCCATGCAGAACGATACAATCAACGACGGACTGACACCGCTAGTTGGAGTAGGTACACGGAGGAATATTTGGATACAAACCGCGCACCTCGCCACGCTCAACTCTGCGACCTCCCTAGCGGCCGCGGACGCCACTTGGGTAGGCTCGCAGCTCCTCCTAATTAGATGAGGATGCCATTGGGCGATTTACTGCGTATCGAATATCTGGCATGGGCGCTGCCGGCAATATCATGTATTTCATAGGCAAACAGGGAGTGCTCTAAGTTCCGGCGGGGCCTCCAGTCCCTCCAACGGGTATTATGCAGGCTATCGACCAATAACCATGGTAAATCGTTAAGGCGGTCATCTGCGCGGCACTGCGGGAAGTATCGGCTTCGCTATCTCCTCGGTATTCCCGGAATCCACTAATTTATCTCCTTGCGAGCCCACCCTTCTCTAGTTGCCGATGCGTTCGCTGGCATATGCTTGCACGTCTTGAAGAAATAGCCACCCCTTTTCGTGATATGCTTCACCCGGTGCGAAAGGCGCTAGACCATTCACCCCCCAATAGTAATCCTTACGTTAACCTACCCCCCGGAGCGGGGTCCGAGAGGTTCGCAAAAGTAAGATAAGCATGGATCCAGGGTTACTACGGTGTGCCACTTCGCACCCGGACGGGGAAACAATGCG'"
   ]
  },
  {
   "cell_type": "code",
   "execution_count": 87,
   "metadata": {
    "collapsed": true
   },
   "outputs": [],
   "source": [
    "s2 = 'GTCTGCCCTCCCGGGCCCTAGTTGTTCTCTTAGCTAACTTCACTGTAATTATCATAAACAATTTCCACTTTCTTTCAGTATTATTGCACGCATAAGGGGGTGACGGGACAACTATAATATGTCTTACTTGAAGTAATGCATCTAGTCGTAAAAGGTGCCATGCAGAACGATACAATCAACGACGGACTGACACCGCTAGTTGGAGTAGGTACACGGAGGAATATTTGGATACAAACCGCGCACCTCGCCACGCTCAACTCTGCGACCTCCCTAGCGGCCGCGGACGCCACTTGGGTAGGCTCGCAGCTCCTCCTAATTAGATGAGGATGCCATTGGGCGATTTACTGCGTATCGAATATCTGGCATGGGCGCTGCCGGCAATATCATGTATTTCATAGGCAAACAGGGAGTGCTCTAAGTTCCGGCGGGGCCTCCAGTCCCTCCAACGGGTATTATGCAGGCTATCGACCAATAACCATGGTAAATCGTTAAGGCGGTCATCTGCGCGGCACTGCGGGAAGTATCGGCTTCGCTATCTCCTCGGTATTCCCGGAATCCACTAATTTATCTCCTTGCGAGCCCACCCTTCTCTAGTTGCCGATGCGTTCGCTGGCATATGCTTGCACGTCTTGAAGAAATAGCCACCCCTTTTCGTGATATGCTTCACCCGGTGCGAAAGGCGCTAGACCATTCACCCCCCAATAGTAATCCTTACGTTAACCTACCCCCCGGAGCGGGGTCCGAGAGGTTCGCAAAAGTAAGATAAGCATGGATCCAGGGTTACTACGGTGTGCCACTTCGCACCCGGACGGGGAAACAATGCG'"
   ]
  },
  {
   "cell_type": "code",
   "execution_count": 88,
   "metadata": {
    "collapsed": false
   },
   "outputs": [
    {
     "data": {
      "text/plain": [
       "True"
      ]
     },
     "execution_count": 88,
     "metadata": {},
     "output_type": "execute_result"
    }
   ],
   "source": [
    "s1 == s2"
   ]
  },
  {
   "cell_type": "code",
   "execution_count": null,
   "metadata": {
    "collapsed": true
   },
   "outputs": [],
   "source": []
  }
 ],
 "metadata": {
  "kernelspec": {
   "display_name": "Python 2",
   "language": "python",
   "name": "python2"
  },
  "language_info": {
   "codemirror_mode": {
    "name": "ipython",
    "version": 2
   },
   "file_extension": ".py",
   "mimetype": "text/x-python",
   "name": "python",
   "nbconvert_exporter": "python",
   "pygments_lexer": "ipython2",
   "version": "2.7.10"
  }
 },
 "nbformat": 4,
 "nbformat_minor": 0
}
