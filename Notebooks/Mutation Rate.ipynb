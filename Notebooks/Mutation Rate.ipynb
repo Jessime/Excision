{
 "cells": [
  {
   "cell_type": "markdown",
   "metadata": {},
   "source": [
    "#Mutations in Gene Corps Workers"
   ]
  },
  {
   "cell_type": "markdown",
   "metadata": {},
   "source": [
    "You're still in the process of prosecuting Gene Corp. One of the people on the case think that the workers at one of the subsidaries are much more likely to have genetic mutations than a control group. Prove that this is the case."
   ]
  },
  {
   "cell_type": "markdown",
   "metadata": {},
   "source": [
    "#Generate the Data"
   ]
  },
  {
   "cell_type": "code",
   "execution_count": 150,
   "metadata": {
    "collapsed": true
   },
   "outputs": [],
   "source": [
    "import numpy as np"
   ]
  },
  {
   "cell_type": "markdown",
   "metadata": {},
   "source": [
    "We'll look at a 1500 bp window in 60 workers and 60 control people."
   ]
  },
  {
   "cell_type": "code",
   "execution_count": 151,
   "metadata": {
    "collapsed": true
   },
   "outputs": [],
   "source": [
    "first_seq = np.random.choice(['A', 'G', 'T', 'C'], 1500, p=[.27, .26, .24, .23])"
   ]
  },
  {
   "cell_type": "code",
   "execution_count": 152,
   "metadata": {
    "collapsed": false
   },
   "outputs": [
    {
     "name": "stdout",
     "output_type": "stream",
     "text": [
      "GTAGAACAGGTGTGGTCATAACATAACCCGAGCAGTCCACGTATGTCTTATTGTGTCCTCTATATTCAGCGCAAACTGGCAGACATCAAACCGCTACCCTAGCCACTGATGTTGCATCAGTCATTAAGGACATAACGCAAGGTCATATAGCGTGAGAATCGCTAATCAGATTCGGTATGGCCGAAATTGAGAGAATAGCGTGCCTGAAGGGAATGGACGGTAAGGCTGTTCTATCTGTTTCTGTCGACGTGAGCAACGAAGTGATGAAAACAATTTCGAAAATGATCTTCGGGGCAGAAAGGTATTTGCCAAACGGAGTTTGAAGCCACACTATTGCAAGGCTCAAGGGTGTAAAGCGAAATTCATCAAGGAGCGCCTACCAGTTCGAAAACTGAGACTATCCATATAGACATCATTACCATAAGCATAACACTTCGAAGAGGCCCTGTGGAAATTTAGAACGTATTAATTTAAGCCGTAGAACTGACACGTCTTGTGCCTCCTACCACACTCCGCCACAGATAACACCGGCTCATGGGCAAAAATGCGGAATTGAATAGGCCATGGGAGAGTTCGGCCAAAATTGGCTCAAACCACTAATTATAGGATAAAAAGATTGCTTGCGAAGTCTGTGGTAGACCACGGTCCTGGAATTACGATGCACTCCACCGGTGCTGCGCGAAAGCCCTCCACAATTCCGACTGGTTACGGAGGAATAACACCAAATATCAGACCCGGGGACAGTTATGCCCCTTCCTACTACTCGAAGAACGGCTAATGGCCCAAAGCTTTTGTGGAGAACTTCGTATTTTGAAAAGTTTTCCTCCGGGGGTTCACACGCCGAACAATTACCCGAAATCGCCTATGGTTGATCTCCAGAAGTGCGATAACACAACGCCGATTAAATAAGCATGGACATCGATAACCGACCAGAGATCAGGACCTAGGATAGTAACGTTTCGAGAAGCACCGGTAGGTTGCTAAAAGGGATTGAAGTTGCCGAGGAATCAAGATATGACGCAAAATCAGCAGGAGTATCGAGTCTTAGTCCCGCGAACAGCTCCTACCGTAGCACCCCAAAATGGCATATTGGTGATGGTACAATAAAAGCAGCGGCCGGAGTATAAAATAGTGATTAGCTAGTTCGGACCAGCCAGTTACGAGTAAGTCCACCGACGAAATTCCCGCATCCAGATACCCTAGATCTAGGTGAATTTTTGGGTAACCCTTTCGGTACTACGAAAAAACAGGTCGATCTTTAACGCGCCCAGCTACCATTCTGGTGGACCTAATCCAGTGCCTGGTCGGCTTTACATACACTAAAGACTCACAATGAGCGTCCCATGCTTCAGATCTCATTTTTACGATAACGGGATGAAGCTACCAGCGTTAGTATCGCTACGCTAGACGTGGGCGTGCTGCTACGTTTTCATGGAGGGTGCGAACCTAAAGCCTGACACTGGTATCCAGGGGAGCAAATTCGTCTCGCCGTGTCGATTT\n"
     ]
    }
   ],
   "source": [
    "print \"\".join(first_seq)"
   ]
  },
  {
   "cell_type": "code",
   "execution_count": 153,
   "metadata": {
    "collapsed": true
   },
   "outputs": [],
   "source": [
    "def mutate(seq, rate):\n",
    "    \"\"\"Makes a gaussian number of mutations in a sequence\"\"\"\n",
    "    new_seq = seq.copy()\n",
    "    num = int(np.random.normal(rate, 10))\n",
    "    base = ['A', 'G', 'T', 'C']\n",
    "    for i in xrange(num):\n",
    "        new_seq[np.random.randint(0, len(seq)-1)] = np.random.choice(base, 1, p=[.27, .26, .24, .23])[0]\n",
    "    return new_seq"
   ]
  },
  {
   "cell_type": "code",
   "execution_count": 154,
   "metadata": {
    "collapsed": false
   },
   "outputs": [
    {
     "name": "stdout",
     "output_type": "stream",
     "text": [
      "GTAGAACAGGTGTGGTCATAACTTAACCCGAGCAGTCCACGTATGTCTTATTGTGTCCTCTATATTCAGCGCAAACTGGCAGACATCAAACCGCTACCCTAGCCACTGACGTTGCATCAGTCATTAAGGACATAACGGAAGGTCATATAGCGTGAGAATCGCTAATCAGATTCGGTATGGCCGAATTTGAGAAAATAGCGTGCCTGAAGGGAATGGACGGTAAGGCTGTTCTCTCTGTTTCTTTCGACGTGAGCAACGAAGAGATGAAAACAATTTCGAAAATGATCTTCGGGGCGGTAAGGTATTTGCCAAACGGAGTTTGAAGCCACCCCAATGCAAGGCTCAAGGGTGTAAAGCGAAATTCATCAAGGAGCGCCTACCAGTCCGAAAACTGAGACTACCCATATAGACCTAATTACCATAAGCATAACACTTCGAAGAGGCCCTGTGGAAATTGAGAACGTATTAATTTAAGCCGTAGTACTGACACGTCTTGTGCCTCCTACCACACTCCGCCCCAGATAACACCGGCTCATGGGCAAAAATGCGGAATTCAATAGGCCATGGGAGAGTTCGGCCAAAATTGGCTCAAACCACTAAATATAGGATTAAAAGATTGCTTGCGAAGTCTGTGGTAGACCACGGTCCTGGAATTACGATGCACTCCACCGGTGTTGCGCGAAAGCCATCCACAAATCCGACTGGTTACGGAGGAATAACACCAAATATCAGACCCGGGGACAGTTATGCCCCTTCCTACTACTCGAAGAACAGCTAATGGCCCAAAGCTTTTGTGGAGAACTTCGTATTATGAAAAGTTTTCCTCCGGGGGTTCACACCCCGAACAATTACCCGAAATCGCCTATGGATGATCTCCAGAAGTGCGATAACACAACGCCGATTAAATAAGCATGGACATCGATAACCGACCAGAGATCAGGACCTAAGATAGTAACGTTTCGAGAAGCACCGGTAGGTTGCTAAAAGGGATTGAAGTTGCCGAGGAATCTAGATATGACGCAACATCAGCAGGAGTATCGAGTCTTAGTCCCGCGAACAGCTCCTACCGTAGCACCCCGAAATGGCATATTCGTGATGGTACAATAAAAGCAGCGGCCGGAGTACAAAATAGTGATTAGCTAGTTCGGACCAGCCAGTTACGAGTAAGTCCACCGACGAAATTCCCGCATCCAGATACCCTAGATCTAGGTGAATTTTTGGGTAGCCCTTTCGGTACTACGAAAAAACAGGTCGATCTTTAACGCGCCCAGCTACCATTCTGGTGGAGCTAATCCAGTGCCTGGTCGGCTTTACATACACTAAAGACTCACAATGAGCGTCCCATGCTTCAGATCTCATTTTTACGATAACGGGATGAAGCTACCAGCGTTAGTAACGCTACGCGAGACGTGGGCGTGCTGCTACGTTATCATGGTGGGTGCGAACCTATAGCCTGACACTGGTATCCCGGGGAGCAAATTCGTCTCTCCGTGTCGATTT\n",
      "differences:  45\n"
     ]
    }
   ],
   "source": [
    "new_seq = mutate(first_seq, 70)\n",
    "print \"\".join(new_seq)\n",
    "print 'differences: ', 1500-sum(first_seq==new_seq)"
   ]
  },
  {
   "cell_type": "markdown",
   "metadata": {},
   "source": [
    "Now we can actually generate our data:"
   ]
  },
  {
   "cell_type": "code",
   "execution_count": 156,
   "metadata": {
    "collapsed": true
   },
   "outputs": [],
   "source": [
    "controls = [mutate(first_seq, 70) for i in xrange(60)]"
   ]
  },
  {
   "cell_type": "code",
   "execution_count": 157,
   "metadata": {
    "collapsed": true
   },
   "outputs": [],
   "source": [
    "workers = [mutate(first_seq, 75) for i in xrange(60)]"
   ]
  },
  {
   "cell_type": "code",
   "execution_count": 158,
   "metadata": {
    "collapsed": true
   },
   "outputs": [],
   "source": [
    "all_seqs = controls + workers"
   ]
  },
  {
   "cell_type": "markdown",
   "metadata": {},
   "source": [
    "#Find the Concensus Sequence"
   ]
  },
  {
   "cell_type": "markdown",
   "metadata": {},
   "source": [
    "I would guess that the concensus sequence is the same as the first sequence I made, so I'll check, but it doesn't really matter. I just need to count the base at each position. The most popular base will be chosen. \n",
    "\n",
    "The first thing I'll have to do is zip the sequences. Then I can count and choose."
   ]
  },
  {
   "cell_type": "code",
   "execution_count": 159,
   "metadata": {
    "collapsed": true
   },
   "outputs": [],
   "source": [
    "from collections import Counter"
   ]
  },
  {
   "cell_type": "code",
   "execution_count": 165,
   "metadata": {
    "collapsed": false
   },
   "outputs": [
    {
     "name": "stdout",
     "output_type": "stream",
     "text": [
      "True\n"
     ]
    }
   ],
   "source": [
    "all_seqs_zip = zip(*all_seqs)\n",
    "counts = [Counter(pos) for pos in all_seqs_zip]\n",
    "concensus = [count.most_common(1)[0][0] for count in counts]\n",
    "print concensus == first_seq.tolist()"
   ]
  },
  {
   "cell_type": "markdown",
   "metadata": {},
   "source": [
    "#Find the Mutation Rate in Workers and Controls"
   ]
  },
  {
   "cell_type": "markdown",
   "metadata": {},
   "source": [
    "We can make this as simple as counting a mutation if it doesn't match the concensus sequence."
   ]
  },
  {
   "cell_type": "code",
   "execution_count": 166,
   "metadata": {
    "collapsed": false
   },
   "outputs": [
    {
     "name": "stdout",
     "output_type": "stream",
     "text": [
      "[62, 50, 46, 51, 58, 49, 55, 55, 49, 50, 60, 42, 60, 46, 47, 58, 44, 53, 50, 48, 45, 51, 53, 55, 43, 56, 48, 45, 58, 43, 41, 44, 51, 45, 57, 62, 48, 49, 45, 58, 49, 66, 70, 52, 51, 39, 49, 63, 52, 60, 47, 48, 51, 53, 56, 55, 53, 60, 48, 54]\n"
     ]
    }
   ],
   "source": [
    "control_mutations = []\n",
    "for c in controls:\n",
    "    mutation_count = sum([p1!=p2 for p1,p2 in zip(c,concensus)])\n",
    "    control_mutations.append(mutation_count)\n",
    "print control_mutations"
   ]
  },
  {
   "cell_type": "code",
   "execution_count": 167,
   "metadata": {
    "collapsed": false
   },
   "outputs": [
    {
     "name": "stdout",
     "output_type": "stream",
     "text": [
      "[41, 58, 65, 56, 47, 53, 62, 53, 68, 56, 56, 53, 51, 57, 50, 43, 58, 77, 59, 47, 60, 58, 58, 56, 53, 63, 43, 52, 38, 56, 52, 51, 56, 62, 49, 36, 65, 58, 55, 55, 40, 55, 58, 45, 58, 57, 52, 56, 49, 58, 57, 57, 66, 53, 61, 41, 44, 50, 59, 67]\n"
     ]
    }
   ],
   "source": [
    "worker_mutations = []\n",
    "for w in workers:\n",
    "    mutation_count = sum([p1!=p2 for p1,p2 in zip(w,concensus)])\n",
    "    worker_mutations.append(mutation_count)\n",
    "print worker_mutations"
   ]
  },
  {
   "cell_type": "markdown",
   "metadata": {},
   "source": [
    "#Test if the Groups are Different"
   ]
  },
  {
   "cell_type": "code",
   "execution_count": 169,
   "metadata": {
    "collapsed": false
   },
   "outputs": [],
   "source": [
    "from scipy.stats import ttest_ind"
   ]
  },
  {
   "cell_type": "code",
   "execution_count": 170,
   "metadata": {
    "collapsed": false
   },
   "outputs": [
    {
     "data": {
      "text/plain": [
       "Ttest_indResult(statistic=-2.080527989371332, pvalue=0.039641273966124595)"
      ]
     },
     "execution_count": 170,
     "metadata": {},
     "output_type": "execute_result"
    }
   ],
   "source": [
    "ttest_ind(control_mutations, worker_mutations)"
   ]
  },
  {
   "cell_type": "markdown",
   "metadata": {},
   "source": [
    "#Plot (for Good Measure)"
   ]
  },
  {
   "cell_type": "markdown",
   "metadata": {},
   "source": [
    "Let's plot these values as histograms just to visualze what's going on."
   ]
  },
  {
   "cell_type": "code",
   "execution_count": 172,
   "metadata": {
    "collapsed": true
   },
   "outputs": [],
   "source": [
    "import matplotlib.pyplot as plt"
   ]
  },
  {
   "cell_type": "code",
   "execution_count": 174,
   "metadata": {
    "collapsed": true
   },
   "outputs": [],
   "source": [
    "import seaborn as sb"
   ]
  },
  {
   "cell_type": "code",
   "execution_count": 173,
   "metadata": {
    "collapsed": false
   },
   "outputs": [],
   "source": [
    "%matplotlib inline\n",
    "plt.style.use(\"ggplot\")\n",
    "plt.rcParams['figure.figsize'] = [12.0, 9.0] #Larger than default of 6, 4\n",
    "colors = plt.rcParams['axes.color_cycle']"
   ]
  },
  {
   "cell_type": "code",
   "execution_count": 191,
   "metadata": {
    "collapsed": false
   },
   "outputs": [
    {
     "data": {
      "image/png": "[encoded data removed]",
      "text/plain": [
       "<matplotlib.figure.Figure at 0x7ff56c771090>"
      ]
     },
     "metadata": {},
     "output_type": "display_data"
    }
   ],
   "source": [
    "sb.distplot(control_mutations, label='Controls')\n",
    "sb.distplot(worker_mutations, label='Workers')\n",
    "plt.legend(fontsize=14)\n",
    "plt.xlabel('Mutations', fontsize=18)\n",
    "plt.ylabel('Density', fontsize=18)\n",
    "plt.title('Mutation in Gene Corp Workers vs. Control', fontsize=20)\n",
    "plt.show()"
   ]
  },
  {
   "cell_type": "code",
   "execution_count": null,
   "metadata": {
    "collapsed": true
   },
   "outputs": [],
   "source": []
  }
 ],
 "metadata": {
  "kernelspec": {
   "display_name": "Python 2",
   "language": "python",
   "name": "python2"
  },
  "language_info": {
   "codemirror_mode": {
    "name": "ipython",
    "version": 2
   },
   "file_extension": ".py",
   "mimetype": "text/x-python",
   "name": "python",
   "nbconvert_exporter": "python",
   "pygments_lexer": "ipython2",
   "version": "2.7.10"
  }
 },
 "nbformat": 4,
 "nbformat_minor": 0
}
